{
 "cells": [
  {
   "cell_type": "markdown",
   "id": "incomplete-student",
   "metadata": {
    "toc": true
   },
   "source": [
    "<h1>Table of Contents<span class=\"tocSkip\"></span></h1>\n",
    "<div class=\"toc\"><ul class=\"toc-item\"><li><span><a href=\"#What-is-regression?\" data-toc-modified-id=\"What-is-regression?-1\"><span class=\"toc-item-num\">1&nbsp;&nbsp;</span>What is regression?</a></span></li><li><span><a href=\"#Prediction-using-linear-regression\" data-toc-modified-id=\"Prediction-using-linear-regression-2\"><span class=\"toc-item-num\">2&nbsp;&nbsp;</span>Prediction using linear regression</a></span><ul class=\"toc-item\"><li><span><a href=\"#Simple-linear-regression\" data-toc-modified-id=\"Simple-linear-regression-2.1\"><span class=\"toc-item-num\">2.1&nbsp;&nbsp;</span>Simple linear regression</a></span></li><li><span><a href=\"#Multiple-linear-regression\" data-toc-modified-id=\"Multiple-linear-regression-2.2\"><span class=\"toc-item-num\">2.2&nbsp;&nbsp;</span>Multiple linear regression</a></span></li><li><span><a href=\"#TensorFlow-Estimators\" data-toc-modified-id=\"TensorFlow-Estimators-2.3\"><span class=\"toc-item-num\">2.3&nbsp;&nbsp;</span>TensorFlow Estimators</a></span><ul class=\"toc-item\"><li><span><a href=\"#Feature-columns\" data-toc-modified-id=\"Feature-columns-2.3.1\"><span class=\"toc-item-num\">2.3.1&nbsp;&nbsp;</span>Feature columns</a></span></li></ul></li></ul></li></ul></div>"
   ]
  },
  {
   "cell_type": "markdown",
   "id": "lesser-import",
   "metadata": {},
   "source": [
    "# What is regression?\n",
    "\n",
    "Regression is normally the first algorithm that people in machine learning work\n",
    "with. It allows us to make predictions from data by learning about the relationship\n",
    "between a given set of dependent and independent variables. It has its use in almost\n",
    "every field; anywhere that has an interest in drawing relationships between two or\n",
    "more things will find a use for regression.\n",
    "\n",
    "Consider the case of house price estimation. There are many factors that can have\n",
    "an impact on the house price: the number of rooms, the floor area, the locality, the\n",
    "availability of amenities, the parking space, and so on. Regression analysis can\n",
    "help us in finding the mathematical relationship between these factors and the\n",
    "house price. Let us imagine a simpler world where only the area of the house determines its\n",
    "price. Using regression we could determine the relationship between the area of the\n",
    "house (independent variable: these are the variables that do not depend upon any\n",
    "other variables) and its price (dependent variable: these variables depend upon one\n",
    "or more independent variables). \n",
    "# Prediction using linear regression\n",
    "## Simple linear regression"
   ]
  },
  {
   "cell_type": "code",
   "execution_count": 6,
   "id": "ordinary-dating",
   "metadata": {
    "ExecuteTime": {
     "end_time": "2021-09-30T17:20:01.199862Z",
     "start_time": "2021-09-30T17:20:01.120865Z"
    }
   },
   "outputs": [
    {
     "data": {
      "image/png": "[encoded data removed]",
      "text/plain": [
       "<Figure size 432x288 with 1 Axes>"
      ]
     },
     "metadata": {
      "needs_background": "light"
     },
     "output_type": "display_data"
    }
   ],
   "source": [
    "import tensorflow as tf\n",
    "import numpy as np\n",
    "import matplotlib.pyplot as plt\n",
    "import pandas as pd\n",
    "\n",
    "#Generate a random data\n",
    "np.random.seed(0)\n",
    "area = 2.5 * np.random.randn(100) + 25\n",
    "price = 25 * area + 5 + np.random.randint(20,50, size = len(area))\n",
    "data = np.array([area, price])\n",
    "data = pd.DataFrame(data = data.T, columns=['area','price'])\n",
    "plt.scatter(data['area'], data['price'])\n",
    "plt.show()"
   ]
  },
  {
   "cell_type": "code",
   "execution_count": 7,
   "id": "correct-mayor",
   "metadata": {
    "ExecuteTime": {
     "end_time": "2021-09-30T17:20:01.655105Z",
     "start_time": "2021-09-30T17:20:01.645079Z"
    }
   },
   "outputs": [
    {
     "name": "stdout",
     "output_type": "stream",
     "text": [
      "The regression coefficients are 24.815544052284988 43.4989785533412\n"
     ]
    }
   ],
   "source": [
    "W = sum(price*(area-np.mean(area))) / sum((area-np.mean(area))**2)\n",
    "b = np.mean(price) - W*np.mean(area)\n",
    "print(\"The regression coefficients are\", W,b)"
   ]
  },
  {
   "cell_type": "code",
   "execution_count": 8,
   "id": "going-canon",
   "metadata": {
    "ExecuteTime": {
     "end_time": "2021-09-30T17:20:02.092912Z",
     "start_time": "2021-09-30T17:20:02.082885Z"
    }
   },
   "outputs": [
    {
     "data": {
      "text/plain": [
       "array([773.32737662, 688.71287694, 724.60736876, 802.91003961,\n",
       "       779.7487488 , 603.25837416, 722.82998231, 654.49755119,\n",
       "       657.48399995, 689.36064289, 672.82387882, 754.10905055,\n",
       "       711.10149285, 671.43615919, 691.42434887, 684.58835479,\n",
       "       756.5785425 , 651.15979503, 683.30994321, 610.90045375,\n",
       "       505.50300176, 704.43733248, 717.51621629, 617.84450797,\n",
       "       804.70056951, 573.6603912 , 666.72638612, 652.27490717,\n",
       "       758.97945515, 755.04492307, 673.50034153, 687.34835152,\n",
       "       608.81036404, 541.00122482, 642.30350669, 673.58729169,\n",
       "       740.21341132, 738.48185512, 639.85826561, 645.1330618 ,\n",
       "       598.83654912, 575.79128567, 558.03252216, 784.91146175,\n",
       "       632.26933944, 636.70994954, 586.16558375, 712.1221953 ,\n",
       "       563.76319703, 650.68941537, 608.33385512, 687.89056981,\n",
       "       632.19781138, 590.64250492, 662.13918654, 690.46080087,\n",
       "       668.01423252, 682.65259162, 624.53496021, 641.3835314 ,\n",
       "       622.1689002 , 641.58131156, 613.4409114 , 556.79097495,\n",
       "       674.89489548, 638.96154856, 562.75193263, 692.59806348,\n",
       "       607.59982354, 667.110213  , 709.11952727, 671.88953262,\n",
       "       734.57469956, 587.28039351, 688.84839666, 621.40274241,\n",
       "       609.86431732, 627.97640647, 644.5592159 , 667.37201367,\n",
       "       591.60301186, 719.77382829, 692.77674683, 568.58077268,\n",
       "       756.21704955, 781.50638328, 737.0177208 , 652.72524814,\n",
       "       597.45930774, 729.30456306, 638.87494164, 739.7266786 ,\n",
       "       676.80872209, 724.47715244, 685.99614493, 707.72257381,\n",
       "       664.53898918, 774.68094964, 671.76106143, 688.82654175])"
      ]
     },
     "execution_count": 8,
     "metadata": {},
     "output_type": "execute_result"
    }
   ],
   "source": [
    "y_pred = W * area + b\n",
    "y_pred"
   ]
  },
  {
   "cell_type": "code",
   "execution_count": 9,
   "id": "loved-stake",
   "metadata": {
    "ExecuteTime": {
     "end_time": "2021-09-30T17:20:02.655405Z",
     "start_time": "2021-09-30T17:20:02.551404Z"
    }
   },
   "outputs": [
    {
     "data": {
      "text/plain": [
       "<matplotlib.legend.Legend at 0x23cf0618dc8>"
      ]
     },
     "execution_count": 9,
     "metadata": {},
     "output_type": "execute_result"
    },
    {
     "data": {
      "image/png": "[encoded data removed]",
      "text/plain": [
       "<Figure size 432x288 with 1 Axes>"
      ]
     },
     "metadata": {
      "needs_background": "light"
     },
     "output_type": "display_data"
    }
   ],
   "source": [
    "plt.plot(area, y_pred, color='red',label=\"Predicted Price\")\n",
    "plt.scatter(data['area'], data['price'], label=\"Training Data\")\n",
    "plt.xlabel(\"Area\")\n",
    "plt.ylabel(\"Price\")\n",
    "plt.legend()"
   ]
  },
  {
   "cell_type": "markdown",
   "id": "numerical-parade",
   "metadata": {},
   "source": [
    "## Multiple linear regression\n",
    "\n",
    "## TensorFlow Estimators\n",
    "TensorFlow provides Estimators as higher-level APIs, to provide scalable and\n",
    "production-oriented solutions. They take care of all behind-the-scene activities such\n",
    "as creating computational graphs, initializing the variables, training the model,\n",
    "saving checkpoints, and logging TensorBoard files. TensorFlow provides two types\n",
    "of Estimators:\n",
    "\n",
    "    • Canned Estimators: These are premade Estimators available in the TensorFlow estimator module. These are models in a box; you just pass them the input features and they are ready to use. Some examples are Linear Classifier, Linear Regressor, DNN Classifier, and so on.\n",
    "\n",
    "    • Custom Estimators: Users can also create their own estimators from the models they build in TensorFlow Keras. These are user-defined Estimators.\n",
    "\n",
    "### Feature columns\n",
    "The feature_column module of TensorFlow 2.0 acts as a bridge between your input\n",
    "data and the model. The input parameters to be used by the estimators for training\n",
    "are passed as feature columns. They are defined in TensorFlow feature_column and\n",
    "specify how the data is interpreted by the model. To create feature columns we will\n",
    "need to call functions from tensorflow.feature_columns. There are nine functions\n",
    "available in feature column:\n",
    "\n",
    "- categorical_column_with_identity: Here each category is one-hot encoded, and thus has a unique identity. This can be used for numeric values only.\n",
    "- categorical_column_with_vocabulary_file: This is used when the categorical input is a string and the categories are given in a file. The string is first converted to a numeric value and then one-hot encoded.\n",
    "- categorical_column_with_vocabulary_list: This is used when the categorical input is a string and the categories are explicitly defined in a list. The string is first converted to a numeric value and then one-hot encoded.\n",
    "- categorical_column_with_hash_bucket: In case the number of categories is very large, and it is not possible to one-hot encode, we use hashing.\n",
    "- crossed_column: When we want to use two columns combined as one eature, for example, in the case of geolocation-based data it makes sense to ombine longitude and latitude values as one feature.\n",
    "- numeric_column: Used when the feature is a numeric, it can be a single value or even a matrix.\n",
    "- indicator_column: We do not use this directly. Instead, it is used with the categorical column, but only when the number of categories is limited and can be represented as one-hot encoded.\n",
    "- embedding_column: We do not use this directly. Instead, it is used with the categorical column, but only when the number of categories is very large and cannot be represented as one-hot encoded.\n",
    "-  bucketized_column: This is used when, instead of a specific numeric value, we split the data into different categories depending upon its value."
   ]
  },
  {
   "cell_type": "code",
   "execution_count": null,
   "id": "whole-soviet",
   "metadata": {},
   "outputs": [],
   "source": []
  }
 ],
 "metadata": {
  "kernelspec": {
   "display_name": "tensorflow",
   "language": "python",
   "name": "tensorflow"
  },
  "language_info": {
   "codemirror_mode": {
    "name": "ipython",
    "version": 3
   },
   "file_extension": ".py",
   "mimetype": "text/x-python",
   "name": "python",
   "nbconvert_exporter": "python",
   "pygments_lexer": "ipython3",
   "version": "3.7.9"
  },
  "toc": {
   "base_numbering": 1,
   "nav_menu": {},
   "number_sections": true,
   "sideBar": true,
   "skip_h1_title": false,
   "title_cell": "Table of Contents",
   "title_sidebar": "Contents",
   "toc_cell": true,
   "toc_position": {},
   "toc_section_display": true,
   "toc_window_display": false
  }
 },
 "nbformat": 4,
 "nbformat_minor": 5
}
