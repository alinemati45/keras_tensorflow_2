{
 "cells": [
  {
   "cell_type": "markdown",
   "id": "angry-pitch",
   "metadata": {
    "toc": true
   },
   "source": [
    "<h1>Table of Contents<span class=\"tocSkip\"></span></h1>\n",
    "<div class=\"toc\"><ul class=\"toc-item\"><li><span><a href=\"#Understanding-TensorFlow-2.x\" data-toc-modified-id=\"Understanding-TensorFlow-2.x-1\"><span class=\"toc-item-num\">1&nbsp;&nbsp;</span>Understanding TensorFlow 2.x</a></span><ul class=\"toc-item\"><li><span><a href=\"#eager-execution,\" data-toc-modified-id=\"eager-execution,-1.1\"><span class=\"toc-item-num\">1.1&nbsp;&nbsp;</span>eager execution,</a></span></li></ul></li><li><span><a href=\"#Keras-APIs-–-three-programming-models\" data-toc-modified-id=\"Keras-APIs-–-three-programming-models-2\"><span class=\"toc-item-num\">2&nbsp;&nbsp;</span>Keras APIs – three programming models</a></span><ul class=\"toc-item\"><li><span><a href=\"#Sequential-API\" data-toc-modified-id=\"Sequential-API-2.1\"><span class=\"toc-item-num\">2.1&nbsp;&nbsp;</span>Sequential API</a></span></li><li><span><a href=\"#Functional-API\" data-toc-modified-id=\"Functional-API-2.2\"><span class=\"toc-item-num\">2.2&nbsp;&nbsp;</span>Functional API</a></span></li><li><span><a href=\"#Model-subclassing\" data-toc-modified-id=\"Model-subclassing-2.3\"><span class=\"toc-item-num\">2.3&nbsp;&nbsp;</span>Model subclassing</a></span></li></ul></li><li><span><a href=\"#Converting-from-1.x-to-2.x\" data-toc-modified-id=\"Converting-from-1.x-to-2.x-3\"><span class=\"toc-item-num\">3&nbsp;&nbsp;</span>Converting from 1.x to 2.x</a></span></li><li><span><a href=\"#Using-TensorFlow-2.x-effectively\" data-toc-modified-id=\"Using-TensorFlow-2.x-effectively-4\"><span class=\"toc-item-num\">4&nbsp;&nbsp;</span>Using TensorFlow 2.x effectively</a></span></li><li><span><a href=\"#Callbacks\" data-toc-modified-id=\"Callbacks-5\"><span class=\"toc-item-num\">5&nbsp;&nbsp;</span>Callbacks</a></span></li></ul></div>"
   ]
  },
  {
   "cell_type": "markdown",
   "id": "patent-richmond",
   "metadata": {},
   "source": [
    "# Understanding TensorFlow 2.x\n",
    "## eager execution,\n",
    "meaning that the model definitions are dynamic, and the execution is immediate.\n",
    "Graphs and sessions should be considered as implementation details. The good news is that TensorFlow 2.x natively supports \"eager execution.\"\n",
    "There is no longer the need to first statically define a computational graph and\n",
    "then execute it (unless you really wanted to!). All the models can be dynamically\n",
    "defined and immediately executed. \n",
    "\n",
    "AutoGraph comes into play: AutoGraph takes eager-style Python code\n",
    "and automatically converts it to graph-generating code."
   ]
  },
  {
   "cell_type": "markdown",
   "id": "choice-finger",
   "metadata": {},
   "source": [
    "# Keras APIs – three programming models\n",
    "## Sequential API\n",
    "\n",
    "Sequential API when we discussed the MNIST code.\n",
    "\n",
    "## Functional API"
   ]
  },
  {
   "cell_type": "code",
   "execution_count": 6,
   "id": "sufficient-corpus",
   "metadata": {
    "ExecuteTime": {
     "end_time": "2021-08-12T04:12:55.281297Z",
     "start_time": "2021-08-12T04:12:55.209166Z"
    }
   },
   "outputs": [],
   "source": [
    "import tensorflow as tf\n",
    "from keras.utils import plot_model\n",
    "\n",
    "\n",
    "def build_model():\n",
    "    # variable-length sequence of integers\n",
    "    text_input_a = tf.keras.Input(shape=(None, ), dtype='int32')\n",
    "    # variable-length sequence of integers\n",
    "    text_input_b = tf.keras.Input(shape=(None, ), dtype='int32')\n",
    "    # Embedding for 1000 unique words mapped to 128-dimensional vectors\n",
    "    shared_embedding = tf.keras.layers.Embedding(1000, 128)\n",
    "    # We reuse the same layer to encode both inputs\n",
    "    encoded_input_a = shared_embedding(text_input_a)\n",
    "    encoded_input_b = shared_embedding(text_input_b)\n",
    "    # two logistic predictions at the end\n",
    "    prediction_a = tf.keras.layers.Dense(1,\n",
    "                                         activation='sigmoid',\n",
    "                                         name='prediction_a')(encoded_input_a)\n",
    "    prediction_b = tf.keras.layers.Dense(1,\n",
    "                                         activation='sigmoid',\n",
    "                                         name='prediction_b')(encoded_input_b)\n",
    "    # this model has 2 inputs, and 2 outputs\n",
    "    # in the middle we have a shared model\n",
    "    model = tf.keras.Model(inputs=[text_input_a, text_input_b],\n",
    "                           outputs=[prediction_a, prediction_b])\n",
    "#     tf.keras.utils.plot_model(model, to_file=\"./shared_model.png\")\n",
    "\n",
    "\n",
    "build_model()"
   ]
  },
  {
   "cell_type": "markdown",
   "id": "regulated-pilot",
   "metadata": {},
   "source": [
    "<img src=\"./i/shared_model.png\" />"
   ]
  },
  {
   "cell_type": "markdown",
   "id": "straight-royal",
   "metadata": {},
   "source": [
    "## Model subclassing\n",
    "\n",
    "Model subclassing offers the highest flexibility and it is generally used when\n",
    "you need to define your own layer. In other words, it is useful when you are in\n",
    "the business of building your own special lego brick instead of composing more\n",
    "standard and well-known bricks.\n",
    "\n",
    "    • __init__: Optionally used to define all the sublayers to be used by this layer.\n",
    "    This is the constructor where you can declare your model.\n",
    "    • build: Used to create the weights of the layer. You can add weights with\n",
    "    add_weight().\n",
    "    • call: Used to define the forward pass. This is where your layer is called and\n",
    "    chained in functional style.\n",
    "    • Optionally, a layer can be serialized by using get_config() and deserialized\n",
    "    using from_config()."
   ]
  },
  {
   "cell_type": "code",
   "execution_count": 8,
   "id": "planned-crazy",
   "metadata": {
    "ExecuteTime": {
     "end_time": "2021-08-12T04:15:22.084345Z",
     "start_time": "2021-08-12T04:15:22.071374Z"
    }
   },
   "outputs": [],
   "source": [
    "class MyLayer(layers.Layer):\n",
    "    def __init__(self, output_dim, **kwargs):\n",
    "        self.output_dim = output_dim\n",
    "        super(MyLayer, self).__init__(**kwargs)\n",
    "    def build(self, input_shape):\n",
    "        # Create a trainable weight variable for this layer.\n",
    "        self.kernel = self.add_weight(name='kernel',\n",
    "        shape=(input_shape[1], self.output_dim),\n",
    "        initializer='uniform',\n",
    "        trainable=True)\n",
    "    def call(self, inputs):\n",
    "    # Do the multiplication and return\n",
    "        return tf.matmul(inputs, self.kernel)\n",
    "    \n",
    "    \n",
    "model = tf.keras.Sequential([\n",
    "            MyLayer(20),\n",
    "            layers.Activation('softmax')])"
   ]
  },
  {
   "cell_type": "markdown",
   "id": "swiss-alert",
   "metadata": {},
   "source": [
    "# Converting from 1.x to 2.x\n",
    "TensorFlow 1.x scripts will not work directly with TensorFlow 2.x but they need\n",
    "converting. The first step to convert from 1.x to 2.x is to use the automatic conversion\n",
    "script installed with 2.x. For a single file, you can run it with:\n",
    "\n",
    "tf_upgrade_v2 --infile tensorfoo.py --outfile tensorfoo-upgraded.py\n",
    "\n",
    "For multiple files in a directory, the syntax is:\n",
    "\n",
    "tf_upgrade_v2 --intree incode --outtree code-upgraded\n",
    "\n",
    "The script will try to upgrade automatically to 2.x and will print error messages\n",
    "where it is not able to upgrade.\n",
    "\n",
    "# Using TensorFlow 2.x effectively\n",
    "2.x native code should follow a number of best practices:\n",
    "\n",
    "    1. Default to higher-level APIs such as tf.keras (or in certain situations,\n",
    "    Estimators) and avoid lower-level APIs with direct computational graph\n",
    "    manipulation unless needed for custom operations. So, in general, no\n",
    "    tf.Session, tf.Session.run.\n",
    "    \n",
    "    2. Add a tf.function decorator to make it run efficiently in graph mode with\n",
    "    AutoGraph. Only use tf.function to decorate high-level computations; all\n",
    "    functions invoked by high-level computations are automatically annotated\n",
    "    on your behalf. In this way, you get the best of both worlds: high-level APIs\n",
    "    with eager support, and the efficiency of computational graphs.\n",
    "    \n",
    "    3. Use Python objects to track variables and losses. So, be Pythonic and use\n",
    "    tf.Variable instead of tf.get_variable. In this way, variables will be\n",
    "    treated with the normal Python scope.\n",
    "    \n",
    "    4. Use tf.data datasets for data inputs and provide these objects directly\n",
    "    to tf.keras.Model.fit. In this way, you will have a collection of highperformance classes for manipulating data and will adopt the best way to\n",
    "    stream training data from disk.\n",
    "    \n",
    "    5. Use tf.layers modules to combine predefined \"lego bricks\" whenever it\n",
    "    is possible, either with Sequential or Functional APIs, or with Subclassing.\n",
    "    Use Estimators if you need to have production-ready models, in particular\n",
    "    if these models need to scale on multiple GPUs, CPUs, or on multiple servers.\n",
    "    When needed, consider converting a tf.keras model into an Estimator.\n",
    "    \n",
    "    6. Consider using a distribution strategy across GPUs, CPUs, and multiple\n",
    "    servers. With tf.keras it is easy"
   ]
  },
  {
   "cell_type": "markdown",
   "id": "brilliant-daisy",
   "metadata": {},
   "source": [
    "# Callbacks"
   ]
  },
  {
   "cell_type": "code",
   "execution_count": null,
   "id": "disabled-causing",
   "metadata": {},
   "outputs": [],
   "source": [
    "67 (102 / 647)"
   ]
  }
 ],
 "metadata": {
  "kernelspec": {
   "display_name": "tensorflow",
   "language": "python",
   "name": "tensorflow"
  },
  "language_info": {
   "codemirror_mode": {
    "name": "ipython",
    "version": 3
   },
   "file_extension": ".py",
   "mimetype": "text/x-python",
   "name": "python",
   "nbconvert_exporter": "python",
   "pygments_lexer": "ipython3",
   "version": "3.7.9"
  },
  "toc": {
   "base_numbering": 1,
   "nav_menu": {},
   "number_sections": true,
   "sideBar": true,
   "skip_h1_title": false,
   "title_cell": "Table of Contents",
   "title_sidebar": "Contents",
   "toc_cell": true,
   "toc_position": {},
   "toc_section_display": true,
   "toc_window_display": false
  }
 },
 "nbformat": 4,
 "nbformat_minor": 5
}
