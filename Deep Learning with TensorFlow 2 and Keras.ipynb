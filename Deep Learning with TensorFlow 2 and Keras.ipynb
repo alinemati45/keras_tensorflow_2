{
 "cells": [
  {
   "cell_type": "markdown",
   "id": "living-nurse",
   "metadata": {
    "toc": true
   },
   "source": [
    "<h1>Table of Contents<span class=\"tocSkip\"></span></h1>\n",
    "<div class=\"toc\"><ul class=\"toc-item\"><li><span><a href=\"#Neural-Network-Foundations-with-TensorFlow-2.0\" data-toc-modified-id=\"Neural-Network-Foundations-with-TensorFlow-2.0-1\"><span class=\"toc-item-num\">1&nbsp;&nbsp;</span>Neural Network Foundations with TensorFlow 2.0</a></span></li><li><span><a href=\"#Perceptron\" data-toc-modified-id=\"Perceptron-2\"><span class=\"toc-item-num\">2&nbsp;&nbsp;</span>Perceptron</a></span><ul class=\"toc-item\"><li><span><a href=\"#A-first-example-of-TensorFlow-2.0-code\" data-toc-modified-id=\"A-first-example-of-TensorFlow-2.0-code-2.1\"><span class=\"toc-item-num\">2.1&nbsp;&nbsp;</span>A first example of TensorFlow 2.0 code</a></span></li></ul></li><li><span><a href=\"#multi-layer-perceptron-(MLP)\" data-toc-modified-id=\"multi-layer-perceptron-(MLP)-3\"><span class=\"toc-item-num\">3&nbsp;&nbsp;</span>multi-layer perceptron (MLP)</a></span><ul class=\"toc-item\"><li><span><a href=\"#Problems-in-training-the-perceptron-and-their-solutions\" data-toc-modified-id=\"Problems-in-training-the-perceptron-and-their-solutions-3.1\"><span class=\"toc-item-num\">3.1&nbsp;&nbsp;</span>Problems in training the perceptron and their solutions</a></span></li><li><span><a href=\"#Can-we-do-without-an-activation-function?\" data-toc-modified-id=\"Can-we-do-without-an-activation-function?-3.2\"><span class=\"toc-item-num\">3.2&nbsp;&nbsp;</span>Can we do without an activation function?</a></span></li><li><span><a href=\"#What-is-Activation-Function?\" data-toc-modified-id=\"What-is-Activation-Function?-3.3\"><span class=\"toc-item-num\">3.3&nbsp;&nbsp;</span>What is Activation Function?</a></span></li><li><span><a href=\"#Why-we-use-Activation-functions-with-Neural-Networks?\" data-toc-modified-id=\"Why-we-use-Activation-functions-with-Neural-Networks?-3.4\"><span class=\"toc-item-num\">3.4&nbsp;&nbsp;</span>Why we use Activation functions with Neural Networks?</a></span></li></ul></li><li><span><a href=\"#Linear-or-Identity-Activation-Function\" data-toc-modified-id=\"Linear-or-Identity-Activation-Function-4\"><span class=\"toc-item-num\">4&nbsp;&nbsp;</span>Linear or Identity Activation Function</a></span></li><li><span><a href=\"#Non-linear-Activation-Function\" data-toc-modified-id=\"Non-linear-Activation-Function-5\"><span class=\"toc-item-num\">5&nbsp;&nbsp;</span>Non-linear Activation Function</a></span></li><li><span><a href=\"#Activation-Function-sigmoid\" data-toc-modified-id=\"Activation-Function-sigmoid-6\"><span class=\"toc-item-num\">6&nbsp;&nbsp;</span>Activation Function sigmoid</a></span></li><li><span><a href=\"#Activation-function-–-tanh\" data-toc-modified-id=\"Activation-function-–-tanh-7\"><span class=\"toc-item-num\">7&nbsp;&nbsp;</span>Activation function – tanh</a></span></li><li><span><a href=\"#ReLU-(Rectified-Linear-Unit)-Activation-Function\" data-toc-modified-id=\"ReLU-(Rectified-Linear-Unit)-Activation-Function-8\"><span class=\"toc-item-num\">8&nbsp;&nbsp;</span>ReLU (Rectified Linear Unit) Activation Function</a></span></li><li><span><a href=\"#Leaky-ReLU\" data-toc-modified-id=\"Leaky-ReLU-9\"><span class=\"toc-item-num\">9&nbsp;&nbsp;</span>Leaky ReLU</a></span><ul class=\"toc-item\"><li><span><a href=\"#Why-derivative/differentiation-is-used-?\" data-toc-modified-id=\"Why-derivative/differentiation-is-used-?-9.1\"><span class=\"toc-item-num\">9.1&nbsp;&nbsp;</span>Why derivative/differentiation is used ?</a></span></li><li><span><a href=\"#An-example-of-an-activation-function-applied-after-a-linear-function\" data-toc-modified-id=\"An-example-of-an-activation-function-applied-after-a-linear-function-9.2\"><span class=\"toc-item-num\">9.2&nbsp;&nbsp;</span>An example of an activation function applied after a linear function</a></span></li><li><span><a href=\"#what-are-neural-networks-after-all?\" data-toc-modified-id=\"what-are-neural-networks-after-all?-9.3\"><span class=\"toc-item-num\">9.3&nbsp;&nbsp;</span>what are neural networks after all?</a></span></li></ul></li><li><span><a href=\"#A-real-example-–-recognizing-handwritten-digits\" data-toc-modified-id=\"A-real-example-–-recognizing-handwritten-digits-10\"><span class=\"toc-item-num\">10&nbsp;&nbsp;</span>A real example – recognizing handwritten digits</a></span><ul class=\"toc-item\"><li><span><a href=\"#One-hot-encoding\" data-toc-modified-id=\"One-hot-encoding-10.1\"><span class=\"toc-item-num\">10.1&nbsp;&nbsp;</span>One-hot encoding</a></span></li><li><span><a href=\"#EPOCH\" data-toc-modified-id=\"EPOCH-10.2\"><span class=\"toc-item-num\">10.2&nbsp;&nbsp;</span>EPOCH</a></span></li><li><span><a href=\"#BATCH_SIZE\" data-toc-modified-id=\"BATCH_SIZE-10.3\"><span class=\"toc-item-num\">10.3&nbsp;&nbsp;</span>BATCH_SIZE</a></span></li><li><span><a href=\"#VALIDATION\" data-toc-modified-id=\"VALIDATION-10.4\"><span class=\"toc-item-num\">10.4&nbsp;&nbsp;</span>VALIDATION</a></span></li></ul></li></ul></div>"
   ]
  },
  {
   "cell_type": "markdown",
   "id": "prerequisite-brick",
   "metadata": {
    "ExecuteTime": {
     "end_time": "2021-08-09T05:39:30.421401Z",
     "start_time": "2021-08-09T05:39:30.405401Z"
    }
   },
   "source": [
    "# Neural Network Foundations with TensorFlow 2.0\n",
    "\n",
    "Why Tensorflow \n",
    "\n",
    "    • It works with all popular languages such as Python, C++, Java, R, and Go.\n",
    "    • Keras – a high-level neural network API that has been integrated with TensorFlow (in 2.0, Keras became the standard API for interacting with TensorFlow). This API specifies how software components should interact.\n",
    "    • TensorFlow allows model deployment and ease of use in production.\n",
    "    • Support for eager computation (see Chapter 2, TensorFlow 1.x and 2.x) has been introduced in TensorFlow 2.0, in addition to graph computation based on static graphs.\n",
    "    • Most importantly, TensorFlow has very good community support.\n",
    "    \n",
    "What is Keras?\n",
    "\n",
    "Keras is a beautiful API for composing building blocks to create and train deep\n",
    "learning models. Keras is now part of TensorFlow. Another\n",
    "question is \"Should I use Keras or tf.keras?\" tf.keras is the implementation of\n",
    "Keras inside TensorFlow."
   ]
  },
  {
   "cell_type": "code",
   "execution_count": 8,
   "id": "facial-mills",
   "metadata": {
    "ExecuteTime": {
     "end_time": "2021-08-09T17:27:20.873006Z",
     "start_time": "2021-08-09T17:27:20.839032Z"
    }
   },
   "outputs": [
    {
     "name": "stdout",
     "output_type": "stream",
     "text": [
      "tf.Tensor(\n",
      "[[1. 0.]\n",
      " [1. 0.]], shape=(2, 2), dtype=float32)\n"
     ]
    }
   ],
   "source": [
    "import tensorflow as tf\n",
    "W = tf.Variable(tf.ones(shape=(2,2)), name=\"W\")\n",
    "b = tf.Variable(tf.zeros(shape=(2)), name=\"b\")\n",
    "\n",
    "def model(x):\n",
    "    return W * x + b\n",
    "\n",
    "out_a = model([1,0])\n",
    "print(out_a)"
   ]
  },
  {
   "cell_type": "markdown",
   "id": "liquid-rehabilitation",
   "metadata": {},
   "source": [
    "# Perceptron\n",
    "The \"perceptron\" is a simple algorithm that, given an input vector x of m values (x1,x2,..., xm), often called input features or simply features, outputs either\n",
    "a 1 (\"yes\") or a 0 (\"no\"). \n",
    "\n",
    "\\begin{eqnarray}\n",
    "  \\mbox{output} & = & \\left\\{ \\begin{array}{ll}\n",
    "      0 & \\mbox{if } \\sum_j w_j x_j \\leq \\mbox{ threshold} \\\\\n",
    "      1 & \\mbox{if } \\sum_j w_j x_j > \\mbox{ threshold}\n",
    "      \\end{array} \\right.\n",
    "\\tag{1}\\end{eqnarray}\n",
    "\n",
    "w is a vector of weights, wx is the dot product sigma 𝑤𝑗 * 𝑥𝑗 and b is bias. If you\n",
    "remember elementary geometry, wx + b defines a boundary hyperplane that changes\n",
    "position according to the values assigned to w and b. \n",
    "\n",
    "Note that a hyperplane is a subspace whose dimension is one less than that of its\n",
    "ambient space.\n",
    "\n",
    "## A first example of TensorFlow 2.0 code\n",
    "\n",
    "Each neuron can be initialized with specific weights via the kernel_initializer\n",
    "parameter. There are a few choices, the most common of which are listed as follows:\n",
    "1. random_uniform: Weights are initialized to uniformly random small values\n",
    "in the range -0.05 to 0.05.\n",
    "2. random_normal: Weights are initialized according to a Gaussian distribution,\n",
    "with zero mean and a small standard deviation of 0.05. For those of you who\n",
    "are not familiar with Gaussian distribution, think about a symmetric \"bell\n",
    "curve\" shape.\n",
    "3. zero: All weights are initialized to zero.\n",
    "\n",
    "\"perceptron\" was the name given to a model having one single linear\n",
    "layer, and as a consequence, if it has multiple layers, you would call it a multi-layer\n",
    "perceptron (MLP). "
   ]
  },
  {
   "cell_type": "code",
   "execution_count": 14,
   "id": "literary-wound",
   "metadata": {
    "ExecuteTime": {
     "end_time": "2021-08-09T18:07:54.190898Z",
     "start_time": "2021-08-09T18:07:54.159080Z"
    }
   },
   "outputs": [],
   "source": [
    "import tensorflow as tf\n",
    "from tensorflow import keras\n",
    "NB_CLASSES = 10\n",
    "RESHAPED = 784\n",
    "model = tf.keras.models.Sequential()\n",
    "model.add(keras.layers.Dense(NB_CLASSES,\n",
    "input_shape=(RESHAPED,), kernel_initializer='zeros', name='dense_layer', activation='softmax'))"
   ]
  },
  {
   "cell_type": "markdown",
   "id": "occupied-respondent",
   "metadata": {},
   "source": [
    "#  multi-layer perceptron (MLP)\n",
    "Note that the input and the output layers are visible from outside, while all the other layers in the middle are hidden – hence the name hidden layers.\n",
    "<img src=\"./i/A-hypothetical-example-of-Multilayer-Perceptron-Network.png\" />\n"
   ]
  },
  {
   "cell_type": "markdown",
   "id": "assured-history",
   "metadata": {},
   "source": [
    "## Problems in training the perceptron and their solutions\n",
    "\n",
    "While the computer processes those images, we would like our neuron to adjust its weights\n",
    "and its bias so that we have fewer and fewer images wrongly recognized.\n",
    "\n",
    "we need a continuous function that allows us to compute the derivative.\n",
    "\n",
    "so, The activation functions help the network use the important information and suppress the irrelevant data points. not only 0 and 1 \n",
    "\n",
    "## Can we do without an activation function?\n",
    "We understand that using an activation function introduces an additional step at each layer during the forward propagation. Now the question is – if the activation function increases the complexity so much, can we do without an activation function?\n",
    "\n",
    "Imagine a neural network without the activation functions. In that case, every neuron will only be performing a linear transformation on the inputs using the weights and biases. Although linear transformations make the neural network simpler, but this network would be less powerful and will not be able to learn the complex patterns from the data.\n",
    "\n",
    "## What is Activation Function?\n",
    "\n",
    "It’s just a thing function that you use to get the output of node. It is also known as Transfer Function.\n",
    "\n",
    "## Why we use Activation functions with Neural Networks?\n",
    "It is used to determine the output of neural network like yes or no. It maps the resulting values in between 0 to 1 or -1 to 1 etc. (depending upon the function).\n",
    "\n",
    "The Activation Functions can be basically divided into 2 types\n",
    "\n",
    "        Linear Activation Function\n",
    "        Non-linear Activation Functions\n",
    "\n",
    "# Linear or Identity Activation Function\n",
    "As you can see the function is a line or linear. Therefore, the output of the functions will not be confined between any range.\n",
    "\n",
    "\n",
    "<img src=\"./i/1_tldIgyDQWqm-sMwP7m3Bww.png\" />\n",
    "\n",
    "Equation : f(x) = x\n",
    "\n",
    "Range : (-infinity to infinity)\n",
    "\n",
    "It doesn’t help with the complexity or various parameters of usual data that is fed to the neural networks.\n",
    "\n",
    "# Non-linear Activation Function\n",
    "The Nonlinear Activation Functions are the most used activation functions. Nonlinearity helps to makes the graph look something like this\n",
    "\n",
    "\n",
    "# Activation Function sigmoid\n",
    "\n",
    "\\begin{eqnarray} \n",
    "  \\sigma(z) \\equiv \\frac{1}{1+e^{-z}}.\n",
    "\\tag{3}\\end{eqnarray}\n",
    "\n",
    "the range (0, 1) when the input varies in the range (−∞, ∞). Mathematically the function is continuous.\n",
    "\n",
    "The Sigmoid Function curve looks like a S-shape.\n",
    "\n",
    "<img src=\"./i/1_Xu7B5y9gp0iL5ooBj7LtWw.png\" />\n",
    "\n",
    "The main reason why we use sigmoid function is because it exists between (0 to 1). Therefore, it is especially used for models where we have to predict the probability as an output.Since probability of anything exists only between the range of 0 and 1, sigmoid is the right choice.\n",
    "\n",
    "The function is differentiable.That means, we can find the slope of the sigmoid curve at any two points.\n",
    "\n",
    "The function is monotonic but function’s derivative is not.\n",
    "\n",
    "The logistic sigmoid function can cause a neural network to get stuck at the training time.\n",
    "\n",
    "The softmax function is a more generalized logistic activation function which is used for multiclass classification.\n",
    "\n",
    "\n",
    "A neuron can use the sigmoid for computing the nonlinear function 𝜎(𝑧 = 𝑤x + 𝑏).\n",
    "\n",
    "Note that if z = wx + b is very large and positive, then 𝑒^−𝑧 → 0 so 𝜎(𝑧) → 1, \n",
    "\n",
    "while if z = wx + b is very large and negative 𝑒^−𝑧 → ∞ so 𝜎(𝑧) → 0. \n",
    "\n",
    "In other words, a neuron\n",
    "with sigmoid activation has a behavior similar to the perceptron, but the changes are\n",
    "gradual and output values such as 0.5539 or 0.123191 are perfectly legitimate. In this\n",
    "sense, a sigmoid neuron can answer \"maybe.\"\n",
    "\n"
   ]
  },
  {
   "cell_type": "code",
   "execution_count": 16,
   "id": "assisted-massage",
   "metadata": {
    "ExecuteTime": {
     "end_time": "2021-08-09T18:31:45.229206Z",
     "start_time": "2021-08-09T18:31:45.148081Z"
    }
   },
   "outputs": [
    {
     "data": {
      "image/png": "[encoded data removed]",
      "text/plain": [
       "<Figure size 432x288 with 1 Axes>"
      ]
     },
     "metadata": {
      "needs_background": "light"
     },
     "output_type": "display_data"
    }
   ],
   "source": [
    "\n",
    "# example plot for the sigmoid activation function\n",
    "from math import exp\n",
    "from matplotlib import pyplot\n",
    " \n",
    "# sigmoid activation function\n",
    "def sigmoid(x):\n",
    "\treturn 1.0 / (1.0 + exp(-x))\n",
    " \n",
    "# define input data\n",
    "inputs = [x for x in range(-10, 10)]\n",
    "# calculate outputs\n",
    "outputs = [sigmoid(x) for x in inputs]\n",
    "# plot inputs vs outputs\n",
    "pyplot.plot(inputs, outputs)\n",
    "pyplot.show()"
   ]
  },
  {
   "cell_type": "markdown",
   "id": "jewish-lightning",
   "metadata": {
    "ExecuteTime": {
     "end_time": "2021-08-09T18:35:05.956663Z",
     "start_time": "2021-08-09T18:35:05.947637Z"
    }
   },
   "source": [
    "# Activation function – tanh\n",
    "tanh is also like logistic sigmoid but better. The range of the tanh function is from (-1 to 1). tanh is also sigmoidal (s - shaped).\n",
    "\n",
    "<img src=\"./i/1_f9erByySVjTjohfFdNkJYQ.jpeg\" />\n",
    "\n",
    "Hyperbolic Tangent Function: tanh(x) = (ex – e-x) / (ex + e-x)\n",
    "\n",
    "\n",
    "The advantage is that the negative inputs will be mapped strongly negative and the zero inputs will be mapped near zero in the tanh graph.\n",
    "\n",
    "The function is differentiable.\n",
    "\n",
    "The function is monotonic while its derivative is not monotonic.\n",
    "\n",
    "The tanh function is mainly used classification between two classes.\n",
    "\n",
    "Both tanh and logistic sigmoid activation functions are used in feed-forward nets."
   ]
  },
  {
   "cell_type": "code",
   "execution_count": 20,
   "id": "preceding-narrative",
   "metadata": {
    "ExecuteTime": {
     "end_time": "2021-08-09T18:36:42.622084Z",
     "start_time": "2021-08-09T18:36:42.540088Z"
    }
   },
   "outputs": [
    {
     "data": {
      "image/png": "[encoded data removed]",
      "text/plain": [
       "<Figure size 432x288 with 1 Axes>"
      ]
     },
     "metadata": {
      "needs_background": "light"
     },
     "output_type": "display_data"
    }
   ],
   "source": [
    "# example plot for the tanh activation function\n",
    "from math import exp\n",
    "from matplotlib import pyplot\n",
    "\n",
    "# tanh activation function\n",
    "def tanh(x):\n",
    "\treturn (exp(x) - exp(-x)) / (exp(x) + exp(-x))\n",
    "\n",
    "# define input data\n",
    "inputs = [x for x in range(-10, 10)]\n",
    "# calculate outputs\n",
    "outputs = [tanh(x) for x in inputs]\n",
    "# plot inputs vs outputs\n",
    "pyplot.plot(inputs, outputs)\n",
    "pyplot.show()"
   ]
  },
  {
   "cell_type": "markdown",
   "id": "incredible-terminal",
   "metadata": {},
   "source": [
    "#  ReLU (Rectified Linear Unit) Activation Function\n",
    "The ReLU is the most used activation function in the world right now.Since, it is used in almost all the convolutional neural networks or deep learning.\n",
    "\n",
    "A ReLU is simply defined as f(x) =max(0, x) \n",
    "\n",
    "<img src=\"./i/1_XxxiA0jJvPrHEJHD4z893g.png\" />\n",
    "\n",
    "As you can see, the ReLU is half rectified (from bottom). f(z) is zero when z is less than zero and f(z) is equal to z when z is above or equal to zero.\n",
    "Range: [ 0 to infinity)\n",
    "\n",
    "The function and its derivative both are monotonic.\n",
    "\n",
    "But the issue is that all the negative values become zero immediately which decreases the ability of the model to fit or train from the data properly. \n",
    "\n",
    "That means any negative input given to the ReLU activation function turns the value into zero immediately in the graph, which in turns affects the resulting graph by not mapping the negative values appropriately.\n",
    "\n",
    "**very popular because it helps address some optimization problems observed with sigmoids.**"
   ]
  },
  {
   "cell_type": "markdown",
   "id": "blond-treat",
   "metadata": {},
   "source": [
    "# Leaky ReLU\n",
    "It is an attempt to solve the dying ReLU problem\n",
    "\n",
    "<img src=\"./i/1_A_Bzn0CjUgOXtPCJKnKLqA.jpeg\" />\n",
    "\n",
    "\n",
    "The leak helps to increase the range of the ReLU function. Usually, the value of a is 0.01 or so.\n",
    "When a is not 0.01 then it is called Randomized ReLU.\n",
    "\n",
    "Therefore the range of the Leaky ReLU is (-infinity to infinity).\n",
    "\n",
    "Both Leaky and Randomized ReLU functions are monotonic in nature. Also, their derivatives also monotonic in nature.\n",
    "\n",
    "\n",
    "<img src=\"./i/0_lo8wlkwReDcXkts0.png\" />\n",
    "     \n",
    "     \n",
    "## Why derivative/differentiation is used ?\n",
    "When updating the curve, to know in which direction and how much to change or update the curve depending upon the slope.That is why we use differentiation in almost every part of Machine Learning and Deep Learning.\n",
    "\n",
    "\n",
    "## An example of an activation function applied after a linear function\n",
    "<img src=\"./i/B14761_01_13.png\" />\n",
    "\n",
    "\n",
    "## what are neural networks after all?\n",
    "\n",
    "machine learning models are a way to compute a function that maps\n",
    "some inputs to their corresponding outputs. The function is nothing more than a\n",
    "number of addition and multiplication operations. However, when combined with\n",
    "a non-linear activation and stacked in multiple layers, these functions can learn\n",
    "almost anything.\n",
    "\n",
    "\n",
    "# A real example – recognizing handwritten digits\n",
    "\n",
    "## One-hot encoding \n",
    "to transform categorical (nonnumerical) features into numerical variables. For instance, the categorical feature\n",
    "\"digit\" with value d in [0 – 9] can be encoded into a binary vector with 10 positions,\n",
    "which always has 0 value except the d - th position where a 1 is present.\n",
    "\n",
    "## EPOCH \n",
    "defines how long the training should last, \n",
    "## BATCH_SIZE \n",
    "is the number of samples you feed in to your network at a time, \n",
    "## VALIDATION \n",
    "is the amount of data reserved for checking or proving the validity of the training process.\n",
    "\n",
    "The reason why we picked EPOCHS = 200, BATCH_SIZE = 128, VALIDATION_\n",
    "SPLIT=0.2, and N_HIDDEN = 128 will be clearer later in this chapter when we will\n",
    "explore different values and discuss hyperparameter optimization."
   ]
  },
  {
   "cell_type": "code",
   "execution_count": 22,
   "id": "editorial-beginning",
   "metadata": {
    "ExecuteTime": {
     "end_time": "2021-08-09T18:53:56.958010Z",
     "start_time": "2021-08-09T18:53:56.949011Z"
    }
   },
   "outputs": [],
   "source": [
    "import tensorflow as tf\n",
    "import numpy as np\n",
    "from tensorflow import keras\n",
    "\n",
    "# network and training parameters\n",
    "EPOCHS = 200\n",
    "BATCH_SIZE = 128\n",
    "VERBOSE = 1\n",
    "NB_CLASSES = 10 # number of output \n",
    "VALIDATION_SPLIT=0.2 # how much TRAIN is reserved for VALIDATION\n",
    "N_HIDDEN = 128\n",
    "# Loading MNIST dataset.\n",
    "# verify\n",
    "# You can verify that the split between train and test is 60,000, and 0,000 respectively.\n",
    "# Labels have one-hot representation.is automatically applied\n"
   ]
  },
  {
   "cell_type": "code",
   "execution_count": 40,
   "id": "strange-birth",
   "metadata": {
    "ExecuteTime": {
     "end_time": "2021-08-09T19:00:05.546889Z",
     "start_time": "2021-08-09T19:00:05.355860Z"
    }
   },
   "outputs": [
    {
     "data": {
      "text/plain": [
       "((60000, 28, 28), (60000,), (10000, 28, 28), (10000,), 10000)"
      ]
     },
     "execution_count": 40,
     "metadata": {},
     "output_type": "execute_result"
    }
   ],
   "source": [
    "mnist = keras.datasets.mnist\n",
    "(X_train , Y_train) , (X_test , Y_test) = mnist.load_data()\n",
    "X_train.shape , Y_train.shape , X_test.shape , Y_test.shape ,  X_test.shape[0]"
   ]
  },
  {
   "cell_type": "code",
   "execution_count": 41,
   "id": "indonesian-warning",
   "metadata": {
    "ExecuteTime": {
     "end_time": "2021-08-09T19:00:06.278566Z",
     "start_time": "2021-08-09T19:00:06.220407Z"
    }
   },
   "outputs": [
    {
     "name": "stdout",
     "output_type": "stream",
     "text": [
      "784\n"
     ]
    },
    {
     "data": {
      "text/plain": [
       "array([[0., 0., 0., ..., 0., 0., 0.],\n",
       "       [0., 0., 0., ..., 0., 0., 0.],\n",
       "       [0., 0., 0., ..., 0., 0., 0.],\n",
       "       ...,\n",
       "       [0., 0., 0., ..., 0., 0., 0.],\n",
       "       [0., 0., 0., ..., 0., 0., 0.],\n",
       "       [0., 0., 0., ..., 0., 0., 0.]], dtype=float32)"
      ]
     },
     "execution_count": 41,
     "metadata": {},
     "output_type": "execute_result"
    }
   ],
   "source": [
    "# X_train is 60000 rows of 28x28 values;\n",
    "# we --> reshape it to 60000 x 784.\n",
    "print(28*28)\n",
    "RESHAPED = 784\n",
    "\n",
    "X_train = X_train.reshape(60000 , RESHAPED).astype('float32')\n",
    "X_test = X_test.reshape( X_test.shape[0], RESHAPED).astype('float32')\n",
    "X_train"
   ]
  },
  {
   "cell_type": "code",
   "execution_count": 43,
   "id": "rational-sullivan",
   "metadata": {
    "ExecuteTime": {
     "end_time": "2021-08-09T19:00:33.936964Z",
     "start_time": "2021-08-09T19:00:33.915965Z"
    }
   },
   "outputs": [
    {
     "name": "stdout",
     "output_type": "stream",
     "text": [
      "60000 train samples\n",
      "10000 test samples\n"
     ]
    }
   ],
   "source": [
    "# Normalize inputs to be within in [0, 1].\n",
    "X_train /= 255\n",
    "X_test /= 255\n",
    "print(X_train.shape[0], 'train samples')\n",
    "print(X_test.shape[0], 'test samples')"
   ]
  },
  {
   "cell_type": "code",
   "execution_count": 44,
   "id": "coastal-credit",
   "metadata": {
    "ExecuteTime": {
     "end_time": "2021-08-09T19:00:35.617806Z",
     "start_time": "2021-08-09T19:00:35.605771Z"
    }
   },
   "outputs": [],
   "source": [
    "# One-hot representation of the labels.\n",
    "Y_train = tf.keras.utils.to_categorical(Y_train, NB_CLASSES)\n",
    "Y_test = tf.keras.utils.to_categorical(Y_test, NB_CLASSES)"
   ]
  },
  {
   "cell_type": "code",
   "execution_count": 46,
   "id": "further-cherry",
   "metadata": {
    "ExecuteTime": {
     "end_time": "2021-08-09T19:04:42.618239Z",
     "start_time": "2021-08-09T19:04:42.574242Z"
    }
   },
   "outputs": [],
   "source": [
    "# Build the model.\n",
    "model = tf.keras.models.Sequential()\n",
    "model.add(keras.layers.Dense(NB_CLASSES , \n",
    "                             input_shape = (RESHAPED ,),\n",
    "                             name='dense_layer' , activation='softmax'\n",
    "                             \n",
    "                            ))"
   ]
  },
  {
   "cell_type": "markdown",
   "id": "mature-conclusion",
   "metadata": {},
   "source": [
    "Once we define the model, we have to compile it so that it can be executed by\n",
    "TensorFlow 2.0. There are a few choices to be made during compilation. \n",
    "\n",
    "Firstly, we need to select an optimizer, which is the specific algorithm used to update\n",
    "weights while we train our model. \n",
    "\n",
    "Second, we need to select an objective function, which is used by the optimizer to navigate the space of weights (frequently, objective functions are called either loss functions or cost functions and the process of\n",
    "optimization is defined as a process of loss minimization). Typically, with neural networks, we seek to minimize the error. As such, the objective function is often referred to as a cost function or a loss function and the value calculated by the loss function is referred to as simply “loss.”\n",
    "\n",
    " \n",
    "\n",
    "Third, we need to evaluate the trained model."
   ]
  },
  {
   "cell_type": "code",
   "execution_count": 49,
   "id": "virgin-witch",
   "metadata": {
    "ExecuteTime": {
     "end_time": "2021-08-09T19:09:05.883367Z",
     "start_time": "2021-08-09T19:09:05.843398Z"
    }
   },
   "outputs": [],
   "source": [
    "# Compiling the model.\n",
    "model.compile(optimizer='SGD',\n",
    "                loss='categorical_crossentropy',\n",
    "                metrics=['accuracy'])"
   ]
  },
  {
   "cell_type": "code",
   "execution_count": 50,
   "id": "guided-statistics",
   "metadata": {
    "ExecuteTime": {
     "end_time": "2021-08-09T19:11:01.725261Z",
     "start_time": "2021-08-09T19:09:13.380513Z"
    }
   },
   "outputs": [
    {
     "name": "stdout",
     "output_type": "stream",
     "text": [
      "Train on 48000 samples, validate on 12000 samples\n",
      "Epoch 1/200\n",
      "48000/48000 [==============================] - 1s 31us/sample - loss: 2.3020 - accuracy: 0.1120 - val_loss: 2.3019 - val_accuracy: 0.1060\n",
      "Epoch 2/200\n",
      "48000/48000 [==============================] - 1s 12us/sample - loss: 2.3014 - accuracy: 0.1140 - val_loss: 2.3017 - val_accuracy: 0.1060\n",
      "Epoch 3/200\n",
      "48000/48000 [==============================] - 1s 11us/sample - loss: 2.3010 - accuracy: 0.1140 - val_loss: 2.3016 - val_accuracy: 0.1060\n",
      "Epoch 4/200\n",
      "48000/48000 [==============================] - 1s 11us/sample - loss: 2.3008 - accuracy: 0.1140 - val_loss: 2.3016 - val_accuracy: 0.1060\n",
      "Epoch 5/200\n",
      "48000/48000 [==============================] - 1s 11us/sample - loss: 2.3007 - accuracy: 0.1140 - val_loss: 2.3015 - val_accuracy: 0.1060\n",
      "Epoch 6/200\n",
      "48000/48000 [==============================] - 1s 11us/sample - loss: 2.3006 - accuracy: 0.1140 - val_loss: 2.3015 - val_accuracy: 0.1060\n",
      "Epoch 7/200\n",
      "48000/48000 [==============================] - 1s 12us/sample - loss: 2.3005 - accuracy: 0.1140 - val_loss: 2.3015 - val_accuracy: 0.1060\n",
      "Epoch 8/200\n",
      "48000/48000 [==============================] - 1s 12us/sample - loss: 2.3005 - accuracy: 0.1140 - val_loss: 2.3014 - val_accuracy: 0.1060\n",
      "Epoch 9/200\n",
      "48000/48000 [==============================] - 1s 11us/sample - loss: 2.3004 - accuracy: 0.1140 - val_loss: 2.3014 - val_accuracy: 0.1060\n",
      "Epoch 10/200\n",
      "48000/48000 [==============================] - 1s 11us/sample - loss: 2.3003 - accuracy: 0.1140 - val_loss: 2.3013 - val_accuracy: 0.1060\n",
      "Epoch 11/200\n",
      "48000/48000 [==============================] - 1s 11us/sample - loss: 2.3003 - accuracy: 0.1140 - val_loss: 2.3013 - val_accuracy: 0.1060\n",
      "Epoch 12/200\n",
      "48000/48000 [==============================] - 1s 11us/sample - loss: 2.3002 - accuracy: 0.1140 - val_loss: 2.3012 - val_accuracy: 0.1060\n",
      "Epoch 13/200\n",
      "48000/48000 [==============================] - 1s 11us/sample - loss: 2.3001 - accuracy: 0.1140 - val_loss: 2.3012 - val_accuracy: 0.1060\n",
      "Epoch 14/200\n",
      "48000/48000 [==============================] - 1s 11us/sample - loss: 2.3001 - accuracy: 0.1140 - val_loss: 2.3011 - val_accuracy: 0.1060\n",
      "Epoch 15/200\n",
      "48000/48000 [==============================] - 1s 11us/sample - loss: 2.3000 - accuracy: 0.1140 - val_loss: 2.3010 - val_accuracy: 0.1060\n",
      "Epoch 16/200\n",
      "48000/48000 [==============================] - 1s 11us/sample - loss: 2.3000 - accuracy: 0.1140 - val_loss: 2.3010 - val_accuracy: 0.1060\n",
      "Epoch 17/200\n",
      "48000/48000 [==============================] - 1s 11us/sample - loss: 2.2999 - accuracy: 0.1140 - val_loss: 2.3009 - val_accuracy: 0.1060\n",
      "Epoch 18/200\n",
      "48000/48000 [==============================] - 1s 11us/sample - loss: 2.2998 - accuracy: 0.1140 - val_loss: 2.3008 - val_accuracy: 0.1060\n",
      "Epoch 19/200\n",
      "48000/48000 [==============================] - 1s 11us/sample - loss: 2.2998 - accuracy: 0.1140 - val_loss: 2.3008 - val_accuracy: 0.1060\n",
      "Epoch 20/200\n",
      "48000/48000 [==============================] - 1s 11us/sample - loss: 2.2997 - accuracy: 0.1140 - val_loss: 2.3007 - val_accuracy: 0.1060\n",
      "Epoch 21/200\n",
      "48000/48000 [==============================] - 1s 11us/sample - loss: 2.2996 - accuracy: 0.1140 - val_loss: 2.3006 - val_accuracy: 0.1060\n",
      "Epoch 22/200\n",
      "48000/48000 [==============================] - 1s 11us/sample - loss: 2.2996 - accuracy: 0.1140 - val_loss: 2.3006 - val_accuracy: 0.1060\n",
      "Epoch 23/200\n",
      "48000/48000 [==============================] - 1s 11us/sample - loss: 2.2995 - accuracy: 0.1140 - val_loss: 2.3005 - val_accuracy: 0.1060\n",
      "Epoch 24/200\n",
      "48000/48000 [==============================] - 1s 11us/sample - loss: 2.2994 - accuracy: 0.1140 - val_loss: 2.3004 - val_accuracy: 0.1060\n",
      "Epoch 25/200\n",
      "48000/48000 [==============================] - 1s 11us/sample - loss: 2.2994 - accuracy: 0.1140 - val_loss: 2.3004 - val_accuracy: 0.1060\n",
      "Epoch 26/200\n",
      "48000/48000 [==============================] - 1s 11us/sample - loss: 2.2993 - accuracy: 0.1140 - val_loss: 2.3003 - val_accuracy: 0.1060\n",
      "Epoch 27/200\n",
      "48000/48000 [==============================] - 1s 11us/sample - loss: 2.2993 - accuracy: 0.1140 - val_loss: 2.3002 - val_accuracy: 0.1060\n",
      "Epoch 28/200\n",
      "48000/48000 [==============================] - 1s 11us/sample - loss: 2.2992 - accuracy: 0.1140 - val_loss: 2.3002 - val_accuracy: 0.1060\n",
      "Epoch 29/200\n",
      "48000/48000 [==============================] - 1s 11us/sample - loss: 2.2991 - accuracy: 0.1140 - val_loss: 2.3001 - val_accuracy: 0.1060\n",
      "Epoch 30/200\n",
      "48000/48000 [==============================] - 1s 11us/sample - loss: 2.2991 - accuracy: 0.1140 - val_loss: 2.3000 - val_accuracy: 0.1060\n",
      "Epoch 31/200\n",
      "48000/48000 [==============================] - 1s 11us/sample - loss: 2.2990 - accuracy: 0.1140 - val_loss: 2.3000 - val_accuracy: 0.1060\n",
      "Epoch 32/200\n",
      "48000/48000 [==============================] - 1s 11us/sample - loss: 2.2989 - accuracy: 0.1140 - val_loss: 2.2999 - val_accuracy: 0.1060\n",
      "Epoch 33/200\n",
      "48000/48000 [==============================] - 1s 11us/sample - loss: 2.2989 - accuracy: 0.1140 - val_loss: 2.2998 - val_accuracy: 0.1060\n",
      "Epoch 34/200\n",
      "48000/48000 [==============================] - 1s 11us/sample - loss: 2.2988 - accuracy: 0.1140 - val_loss: 2.2998 - val_accuracy: 0.1060\n",
      "Epoch 35/200\n",
      "48000/48000 [==============================] - 1s 11us/sample - loss: 2.2987 - accuracy: 0.1140 - val_loss: 2.2997 - val_accuracy: 0.1060\n",
      "Epoch 36/200\n",
      "48000/48000 [==============================] - 1s 11us/sample - loss: 2.2987 - accuracy: 0.1140 - val_loss: 2.2996 - val_accuracy: 0.1060\n",
      "Epoch 37/200\n",
      "48000/48000 [==============================] - 1s 11us/sample - loss: 2.2986 - accuracy: 0.1140 - val_loss: 2.2996 - val_accuracy: 0.1060\n",
      "Epoch 38/200\n",
      "48000/48000 [==============================] - 1s 12us/sample - loss: 2.2986 - accuracy: 0.1140 - val_loss: 2.2995 - val_accuracy: 0.1060\n",
      "Epoch 39/200\n",
      "48000/48000 [==============================] - 1s 11us/sample - loss: 2.2985 - accuracy: 0.1140 - val_loss: 2.2995 - val_accuracy: 0.1060\n",
      "Epoch 40/200\n",
      "48000/48000 [==============================] - 1s 11us/sample - loss: 2.2984 - accuracy: 0.1140 - val_loss: 2.2994 - val_accuracy: 0.1060\n",
      "Epoch 41/200\n",
      "48000/48000 [==============================] - 1s 11us/sample - loss: 2.2984 - accuracy: 0.1140 - val_loss: 2.2993 - val_accuracy: 0.1060\n",
      "Epoch 42/200\n",
      "48000/48000 [==============================] - 1s 11us/sample - loss: 2.2983 - accuracy: 0.1140 - val_loss: 2.2993 - val_accuracy: 0.1060\n",
      "Epoch 43/200\n",
      "48000/48000 [==============================] - 1s 11us/sample - loss: 2.2982 - accuracy: 0.1140 - val_loss: 2.2992 - val_accuracy: 0.1060\n",
      "Epoch 44/200\n",
      "48000/48000 [==============================] - 1s 11us/sample - loss: 2.2982 - accuracy: 0.1140 - val_loss: 2.2991 - val_accuracy: 0.1060\n",
      "Epoch 45/200\n",
      "48000/48000 [==============================] - 1s 11us/sample - loss: 2.2981 - accuracy: 0.1140 - val_loss: 2.2991 - val_accuracy: 0.1060\n",
      "Epoch 46/200\n",
      "48000/48000 [==============================] - 1s 11us/sample - loss: 2.2981 - accuracy: 0.1140 - val_loss: 2.2990 - val_accuracy: 0.1060\n",
      "Epoch 47/200\n",
      "48000/48000 [==============================] - 1s 12us/sample - loss: 2.2980 - accuracy: 0.1140 - val_loss: 2.2989 - val_accuracy: 0.1060\n",
      "Epoch 48/200\n",
      "48000/48000 [==============================] - 1s 11us/sample - loss: 2.2979 - accuracy: 0.1140 - val_loss: 2.2989 - val_accuracy: 0.1060\n",
      "Epoch 49/200\n",
      "48000/48000 [==============================] - 1s 11us/sample - loss: 2.2979 - accuracy: 0.1140 - val_loss: 2.2988 - val_accuracy: 0.1060\n",
      "Epoch 50/200\n",
      "48000/48000 [==============================] - 1s 11us/sample - loss: 2.2978 - accuracy: 0.1140 - val_loss: 2.2988 - val_accuracy: 0.1060\n",
      "Epoch 51/200\n",
      "48000/48000 [==============================] - 1s 11us/sample - loss: 2.2977 - accuracy: 0.1140 - val_loss: 2.2987 - val_accuracy: 0.1060\n",
      "Epoch 52/200\n",
      "48000/48000 [==============================] - 1s 11us/sample - loss: 2.2977 - accuracy: 0.1140 - val_loss: 2.2986 - val_accuracy: 0.1060\n",
      "Epoch 53/200\n",
      "48000/48000 [==============================] - 1s 11us/sample - loss: 2.2976 - accuracy: 0.1140 - val_loss: 2.2986 - val_accuracy: 0.1060\n",
      "Epoch 54/200\n",
      "48000/48000 [==============================] - 1s 11us/sample - loss: 2.2975 - accuracy: 0.1140 - val_loss: 2.2985 - val_accuracy: 0.1060\n"
     ]
    },
    {
     "name": "stdout",
     "output_type": "stream",
     "text": [
      "Epoch 55/200\n",
      "48000/48000 [==============================] - 1s 11us/sample - loss: 2.2975 - accuracy: 0.1140 - val_loss: 2.2984 - val_accuracy: 0.1060\n",
      "Epoch 56/200\n",
      "48000/48000 [==============================] - 1s 11us/sample - loss: 2.2974 - accuracy: 0.1140 - val_loss: 2.2984 - val_accuracy: 0.1060\n",
      "Epoch 57/200\n",
      "48000/48000 [==============================] - 1s 11us/sample - loss: 2.2974 - accuracy: 0.1140 - val_loss: 2.2983 - val_accuracy: 0.1060\n",
      "Epoch 58/200\n",
      "48000/48000 [==============================] - 1s 11us/sample - loss: 2.2973 - accuracy: 0.1140 - val_loss: 2.2982 - val_accuracy: 0.1060\n",
      "Epoch 59/200\n",
      "48000/48000 [==============================] - 1s 11us/sample - loss: 2.2972 - accuracy: 0.1140 - val_loss: 2.2982 - val_accuracy: 0.1060\n",
      "Epoch 60/200\n",
      "48000/48000 [==============================] - 1s 11us/sample - loss: 2.2972 - accuracy: 0.1140 - val_loss: 2.2981 - val_accuracy: 0.1060\n",
      "Epoch 61/200\n",
      "48000/48000 [==============================] - 1s 11us/sample - loss: 2.2971 - accuracy: 0.1140 - val_loss: 2.2980 - val_accuracy: 0.1060\n",
      "Epoch 62/200\n",
      "48000/48000 [==============================] - 1s 11us/sample - loss: 2.2970 - accuracy: 0.1140 - val_loss: 2.2980 - val_accuracy: 0.1060\n",
      "Epoch 63/200\n",
      "48000/48000 [==============================] - 1s 11us/sample - loss: 2.2970 - accuracy: 0.1140 - val_loss: 2.2979 - val_accuracy: 0.1060\n",
      "Epoch 64/200\n",
      "48000/48000 [==============================] - 1s 11us/sample - loss: 2.2969 - accuracy: 0.1140 - val_loss: 2.2978 - val_accuracy: 0.1060\n",
      "Epoch 65/200\n",
      "48000/48000 [==============================] - 1s 12us/sample - loss: 2.2968 - accuracy: 0.1140 - val_loss: 2.2978 - val_accuracy: 0.1060\n",
      "Epoch 66/200\n",
      "48000/48000 [==============================] - 1s 12us/sample - loss: 2.2968 - accuracy: 0.1140 - val_loss: 2.2977 - val_accuracy: 0.1060\n",
      "Epoch 67/200\n",
      "48000/48000 [==============================] - 1s 11us/sample - loss: 2.2967 - accuracy: 0.1140 - val_loss: 2.2976 - val_accuracy: 0.1060\n",
      "Epoch 68/200\n",
      "48000/48000 [==============================] - 1s 11us/sample - loss: 2.2967 - accuracy: 0.1140 - val_loss: 2.2976 - val_accuracy: 0.1060\n",
      "Epoch 69/200\n",
      "48000/48000 [==============================] - 1s 11us/sample - loss: 2.2966 - accuracy: 0.1140 - val_loss: 2.2975 - val_accuracy: 0.1060\n",
      "Epoch 70/200\n",
      "48000/48000 [==============================] - 1s 11us/sample - loss: 2.2965 - accuracy: 0.1140 - val_loss: 2.2975 - val_accuracy: 0.1060\n",
      "Epoch 71/200\n",
      "48000/48000 [==============================] - 1s 11us/sample - loss: 2.2965 - accuracy: 0.1140 - val_loss: 2.2974 - val_accuracy: 0.1060\n",
      "Epoch 72/200\n",
      "48000/48000 [==============================] - 1s 11us/sample - loss: 2.2964 - accuracy: 0.1140 - val_loss: 2.2973 - val_accuracy: 0.1060\n",
      "Epoch 73/200\n",
      "48000/48000 [==============================] - 1s 11us/sample - loss: 2.2963 - accuracy: 0.1140 - val_loss: 2.2973 - val_accuracy: 0.1060\n",
      "Epoch 74/200\n",
      "48000/48000 [==============================] - 1s 11us/sample - loss: 2.2963 - accuracy: 0.1140 - val_loss: 2.2972 - val_accuracy: 0.1060\n",
      "Epoch 75/200\n",
      "48000/48000 [==============================] - 1s 11us/sample - loss: 2.2962 - accuracy: 0.1140 - val_loss: 2.2971 - val_accuracy: 0.1060\n",
      "Epoch 76/200\n",
      "48000/48000 [==============================] - 1s 11us/sample - loss: 2.2961 - accuracy: 0.1140 - val_loss: 2.2971 - val_accuracy: 0.1060\n",
      "Epoch 77/200\n",
      "48000/48000 [==============================] - 1s 11us/sample - loss: 2.2961 - accuracy: 0.1140 - val_loss: 2.2970 - val_accuracy: 0.1060\n",
      "Epoch 78/200\n",
      "48000/48000 [==============================] - 1s 12us/sample - loss: 2.2960 - accuracy: 0.1140 - val_loss: 2.2969 - val_accuracy: 0.1060\n",
      "Epoch 79/200\n",
      "48000/48000 [==============================] - 1s 12us/sample - loss: 2.2960 - accuracy: 0.1140 - val_loss: 2.2969 - val_accuracy: 0.1060\n",
      "Epoch 80/200\n",
      "48000/48000 [==============================] - 1s 11us/sample - loss: 2.2959 - accuracy: 0.1140 - val_loss: 2.2968 - val_accuracy: 0.1060\n",
      "Epoch 81/200\n",
      "48000/48000 [==============================] - 1s 12us/sample - loss: 2.2958 - accuracy: 0.1140 - val_loss: 2.2968 - val_accuracy: 0.1060\n",
      "Epoch 82/200\n",
      "48000/48000 [==============================] - 1s 11us/sample - loss: 2.2958 - accuracy: 0.1140 - val_loss: 2.2967 - val_accuracy: 0.1060\n",
      "Epoch 83/200\n",
      "48000/48000 [==============================] - 1s 11us/sample - loss: 2.2957 - accuracy: 0.1140 - val_loss: 2.2966 - val_accuracy: 0.1060\n",
      "Epoch 84/200\n",
      "48000/48000 [==============================] - 1s 11us/sample - loss: 2.2956 - accuracy: 0.1140 - val_loss: 2.2966 - val_accuracy: 0.1060\n",
      "Epoch 85/200\n",
      "48000/48000 [==============================] - 1s 11us/sample - loss: 2.2956 - accuracy: 0.1140 - val_loss: 2.2965 - val_accuracy: 0.1060\n",
      "Epoch 86/200\n",
      "48000/48000 [==============================] - 1s 11us/sample - loss: 2.2955 - accuracy: 0.1140 - val_loss: 2.2964 - val_accuracy: 0.1060\n",
      "Epoch 87/200\n",
      "48000/48000 [==============================] - 1s 11us/sample - loss: 2.2955 - accuracy: 0.1140 - val_loss: 2.2964 - val_accuracy: 0.1060\n",
      "Epoch 88/200\n",
      "48000/48000 [==============================] - 1s 11us/sample - loss: 2.2954 - accuracy: 0.1140 - val_loss: 2.2963 - val_accuracy: 0.1060\n",
      "Epoch 89/200\n",
      "48000/48000 [==============================] - 1s 11us/sample - loss: 2.2953 - accuracy: 0.1140 - val_loss: 2.2962 - val_accuracy: 0.1060\n",
      "Epoch 90/200\n",
      "48000/48000 [==============================] - 1s 11us/sample - loss: 2.2953 - accuracy: 0.1140 - val_loss: 2.2962 - val_accuracy: 0.1060\n",
      "Epoch 91/200\n",
      "48000/48000 [==============================] - 1s 11us/sample - loss: 2.2952 - accuracy: 0.1140 - val_loss: 2.2961 - val_accuracy: 0.1060\n",
      "Epoch 92/200\n",
      "48000/48000 [==============================] - 1s 11us/sample - loss: 2.2951 - accuracy: 0.1140 - val_loss: 2.2960 - val_accuracy: 0.1060\n",
      "Epoch 93/200\n",
      "48000/48000 [==============================] - 1s 12us/sample - loss: 2.2951 - accuracy: 0.1140 - val_loss: 2.2960 - val_accuracy: 0.1060\n",
      "Epoch 94/200\n",
      "48000/48000 [==============================] - 1s 11us/sample - loss: 2.2950 - accuracy: 0.1140 - val_loss: 2.2959 - val_accuracy: 0.1060\n",
      "Epoch 95/200\n",
      "48000/48000 [==============================] - 1s 11us/sample - loss: 2.2949 - accuracy: 0.1140 - val_loss: 2.2958 - val_accuracy: 0.1060\n",
      "Epoch 96/200\n",
      "48000/48000 [==============================] - 1s 11us/sample - loss: 2.2949 - accuracy: 0.1140 - val_loss: 2.2958 - val_accuracy: 0.1060\n",
      "Epoch 97/200\n",
      "48000/48000 [==============================] - 1s 11us/sample - loss: 2.2948 - accuracy: 0.1140 - val_loss: 2.2957 - val_accuracy: 0.1060\n",
      "Epoch 98/200\n",
      "48000/48000 [==============================] - 1s 11us/sample - loss: 2.2948 - accuracy: 0.1140 - val_loss: 2.2957 - val_accuracy: 0.1060\n",
      "Epoch 99/200\n",
      "48000/48000 [==============================] - 1s 11us/sample - loss: 2.2947 - accuracy: 0.1140 - val_loss: 2.2956 - val_accuracy: 0.1060\n",
      "Epoch 100/200\n",
      "48000/48000 [==============================] - 1s 11us/sample - loss: 2.2946 - accuracy: 0.1140 - val_loss: 2.2955 - val_accuracy: 0.1060\n",
      "Epoch 101/200\n",
      "48000/48000 [==============================] - 1s 11us/sample - loss: 2.2946 - accuracy: 0.1140 - val_loss: 2.2955 - val_accuracy: 0.1060\n",
      "Epoch 102/200\n",
      "48000/48000 [==============================] - 1s 11us/sample - loss: 2.2945 - accuracy: 0.1140 - val_loss: 2.2954 - val_accuracy: 0.1060\n",
      "Epoch 103/200\n",
      "48000/48000 [==============================] - 1s 12us/sample - loss: 2.2944 - accuracy: 0.1140 - val_loss: 2.2953 - val_accuracy: 0.1060\n",
      "Epoch 104/200\n",
      "48000/48000 [==============================] - 1s 11us/sample - loss: 2.2944 - accuracy: 0.1140 - val_loss: 2.2953 - val_accuracy: 0.1060\n",
      "Epoch 105/200\n",
      "48000/48000 [==============================] - 1s 12us/sample - loss: 2.2943 - accuracy: 0.1140 - val_loss: 2.2952 - val_accuracy: 0.1060\n",
      "Epoch 106/200\n",
      "48000/48000 [==============================] - 1s 12us/sample - loss: 2.2943 - accuracy: 0.1140 - val_loss: 2.2951 - val_accuracy: 0.1060\n",
      "Epoch 107/200\n",
      "48000/48000 [==============================] - 1s 12us/sample - loss: 2.2942 - accuracy: 0.1140 - val_loss: 2.2951 - val_accuracy: 0.1060\n",
      "Epoch 108/200\n",
      "48000/48000 [==============================] - 1s 12us/sample - loss: 2.2941 - accuracy: 0.1140 - val_loss: 2.2950 - val_accuracy: 0.1060\n",
      "Epoch 109/200\n",
      "48000/48000 [==============================] - 1s 12us/sample - loss: 2.2941 - accuracy: 0.1140 - val_loss: 2.2949 - val_accuracy: 0.1060\n",
      "Epoch 110/200\n",
      "48000/48000 [==============================] - 1s 11us/sample - loss: 2.2940 - accuracy: 0.1140 - val_loss: 2.2949 - val_accuracy: 0.1060\n",
      "Epoch 111/200\n",
      "48000/48000 [==============================] - 1s 11us/sample - loss: 2.2939 - accuracy: 0.1140 - val_loss: 2.2948 - val_accuracy: 0.1060\n",
      "Epoch 112/200\n",
      "48000/48000 [==============================] - 1s 11us/sample - loss: 2.2939 - accuracy: 0.1140 - val_loss: 2.2947 - val_accuracy: 0.1060\n",
      "Epoch 113/200\n",
      "48000/48000 [==============================] - 1s 11us/sample - loss: 2.2938 - accuracy: 0.1140 - val_loss: 2.2947 - val_accuracy: 0.1060\n",
      "Epoch 114/200\n",
      "48000/48000 [==============================] - 1s 11us/sample - loss: 2.2937 - accuracy: 0.1140 - val_loss: 2.2946 - val_accuracy: 0.1060\n",
      "Epoch 115/200\n",
      "48000/48000 [==============================] - 1s 11us/sample - loss: 2.2937 - accuracy: 0.1140 - val_loss: 2.2945 - val_accuracy: 0.1060\n",
      "Epoch 116/200\n",
      "48000/48000 [==============================] - 1s 11us/sample - loss: 2.2936 - accuracy: 0.1140 - val_loss: 2.2945 - val_accuracy: 0.1060\n",
      "Epoch 117/200\n",
      "48000/48000 [==============================] - 1s 11us/sample - loss: 2.2936 - accuracy: 0.1140 - val_loss: 2.2944 - val_accuracy: 0.1060\n",
      "Epoch 118/200\n",
      "48000/48000 [==============================] - 1s 11us/sample - loss: 2.2935 - accuracy: 0.1140 - val_loss: 2.2944 - val_accuracy: 0.1060\n",
      "Epoch 119/200\n",
      "48000/48000 [==============================] - 1s 11us/sample - loss: 2.2934 - accuracy: 0.1140 - val_loss: 2.2943 - val_accuracy: 0.1060\n",
      "Epoch 120/200\n",
      "48000/48000 [==============================] - 1s 11us/sample - loss: 2.2934 - accuracy: 0.1140 - val_loss: 2.2942 - val_accuracy: 0.1060\n",
      "Epoch 121/200\n",
      "48000/48000 [==============================] - 1s 11us/sample - loss: 2.2933 - accuracy: 0.1140 - val_loss: 2.2942 - val_accuracy: 0.1060\n",
      "Epoch 122/200\n",
      "48000/48000 [==============================] - 1s 12us/sample - loss: 2.2932 - accuracy: 0.1140 - val_loss: 2.2941 - val_accuracy: 0.1060\n",
      "Epoch 123/200\n",
      "48000/48000 [==============================] - 1s 11us/sample - loss: 2.2932 - accuracy: 0.1140 - val_loss: 2.2940 - val_accuracy: 0.1060\n",
      "Epoch 124/200\n",
      "48000/48000 [==============================] - 1s 11us/sample - loss: 2.2931 - accuracy: 0.1140 - val_loss: 2.2940 - val_accuracy: 0.1060\n",
      "Epoch 125/200\n",
      "48000/48000 [==============================] - 1s 11us/sample - loss: 2.2931 - accuracy: 0.1140 - val_loss: 2.2939 - val_accuracy: 0.1060\n",
      "Epoch 126/200\n",
      "48000/48000 [==============================] - 1s 12us/sample - loss: 2.2930 - accuracy: 0.1140 - val_loss: 2.2939 - val_accuracy: 0.1060\n",
      "Epoch 127/200\n",
      "48000/48000 [==============================] - 1s 12us/sample - loss: 2.2929 - accuracy: 0.1140 - val_loss: 2.2938 - val_accuracy: 0.1060\n",
      "Epoch 128/200\n",
      "48000/48000 [==============================] - 1s 12us/sample - loss: 2.2929 - accuracy: 0.1140 - val_loss: 2.2937 - val_accuracy: 0.1060\n",
      "Epoch 129/200\n",
      "48000/48000 [==============================] - 1s 11us/sample - loss: 2.2928 - accuracy: 0.1140 - val_loss: 2.2937 - val_accuracy: 0.1060\n",
      "Epoch 130/200\n",
      "48000/48000 [==============================] - 1s 12us/sample - loss: 2.2927 - accuracy: 0.1140 - val_loss: 2.2936 - val_accuracy: 0.1060\n",
      "Epoch 131/200\n",
      "48000/48000 [==============================] - 1s 12us/sample - loss: 2.2927 - accuracy: 0.1140 - val_loss: 2.2935 - val_accuracy: 0.1060\n",
      "Epoch 132/200\n",
      "48000/48000 [==============================] - 1s 12us/sample - loss: 2.2926 - accuracy: 0.1140 - val_loss: 2.2935 - val_accuracy: 0.1060\n",
      "Epoch 133/200\n",
      "48000/48000 [==============================] - 1s 12us/sample - loss: 2.2925 - accuracy: 0.1140 - val_loss: 2.2934 - val_accuracy: 0.1060\n",
      "Epoch 134/200\n",
      "48000/48000 [==============================] - 1s 11us/sample - loss: 2.2925 - accuracy: 0.1140 - val_loss: 2.2933 - val_accuracy: 0.1060\n",
      "Epoch 135/200\n",
      "48000/48000 [==============================] - 1s 11us/sample - loss: 2.2924 - accuracy: 0.1140 - val_loss: 2.2933 - val_accuracy: 0.1060\n",
      "Epoch 136/200\n",
      "48000/48000 [==============================] - 1s 11us/sample - loss: 2.2924 - accuracy: 0.1140 - val_loss: 2.2932 - val_accuracy: 0.1060\n",
      "Epoch 137/200\n",
      "48000/48000 [==============================] - 1s 11us/sample - loss: 2.2923 - accuracy: 0.1140 - val_loss: 2.2932 - val_accuracy: 0.1060\n",
      "Epoch 138/200\n",
      "48000/48000 [==============================] - 1s 11us/sample - loss: 2.2922 - accuracy: 0.1140 - val_loss: 2.2931 - val_accuracy: 0.1060\n",
      "Epoch 139/200\n",
      "48000/48000 [==============================] - 1s 11us/sample - loss: 2.2922 - accuracy: 0.1140 - val_loss: 2.2930 - val_accuracy: 0.1060\n",
      "Epoch 140/200\n",
      "48000/48000 [==============================] - 1s 11us/sample - loss: 2.2921 - accuracy: 0.1140 - val_loss: 2.2930 - val_accuracy: 0.1060\n",
      "Epoch 141/200\n",
      "48000/48000 [==============================] - 1s 11us/sample - loss: 2.2920 - accuracy: 0.1140 - val_loss: 2.2929 - val_accuracy: 0.1060\n",
      "Epoch 142/200\n",
      "48000/48000 [==============================] - 1s 11us/sample - loss: 2.2920 - accuracy: 0.1140 - val_loss: 2.2928 - val_accuracy: 0.1060\n",
      "Epoch 143/200\n",
      "48000/48000 [==============================] - 1s 11us/sample - loss: 2.2919 - accuracy: 0.1140 - val_loss: 2.2928 - val_accuracy: 0.1060\n",
      "Epoch 144/200\n",
      "48000/48000 [==============================] - 1s 11us/sample - loss: 2.2918 - accuracy: 0.1140 - val_loss: 2.2927 - val_accuracy: 0.1060\n",
      "Epoch 145/200\n",
      "48000/48000 [==============================] - 1s 11us/sample - loss: 2.2918 - accuracy: 0.1140 - val_loss: 2.2926 - val_accuracy: 0.1060\n",
      "Epoch 146/200\n",
      "48000/48000 [==============================] - 1s 11us/sample - loss: 2.2917 - accuracy: 0.1140 - val_loss: 2.2926 - val_accuracy: 0.1060\n",
      "Epoch 147/200\n",
      "48000/48000 [==============================] - 1s 12us/sample - loss: 2.2917 - accuracy: 0.1140 - val_loss: 2.2925 - val_accuracy: 0.1060\n",
      "Epoch 148/200\n",
      "48000/48000 [==============================] - 1s 11us/sample - loss: 2.2916 - accuracy: 0.1140 - val_loss: 2.2924 - val_accuracy: 0.1060\n",
      "Epoch 149/200\n",
      "48000/48000 [==============================] - 1s 11us/sample - loss: 2.2915 - accuracy: 0.1140 - val_loss: 2.2924 - val_accuracy: 0.1060\n",
      "Epoch 150/200\n",
      "48000/48000 [==============================] - 1s 11us/sample - loss: 2.2915 - accuracy: 0.1140 - val_loss: 2.2923 - val_accuracy: 0.1060\n",
      "Epoch 151/200\n",
      "48000/48000 [==============================] - 1s 11us/sample - loss: 2.2914 - accuracy: 0.1140 - val_loss: 2.2923 - val_accuracy: 0.1060\n",
      "Epoch 152/200\n",
      "48000/48000 [==============================] - 1s 11us/sample - loss: 2.2913 - accuracy: 0.1140 - val_loss: 2.2922 - val_accuracy: 0.1060\n",
      "Epoch 153/200\n",
      "48000/48000 [==============================] - 1s 11us/sample - loss: 2.2913 - accuracy: 0.1140 - val_loss: 2.2921 - val_accuracy: 0.1060\n",
      "Epoch 154/200\n",
      "48000/48000 [==============================] - 1s 11us/sample - loss: 2.2912 - accuracy: 0.1140 - val_loss: 2.2921 - val_accuracy: 0.1060\n",
      "Epoch 155/200\n",
      "48000/48000 [==============================] - 1s 11us/sample - loss: 2.2912 - accuracy: 0.1140 - val_loss: 2.2920 - val_accuracy: 0.1060\n",
      "Epoch 156/200\n",
      "48000/48000 [==============================] - 1s 12us/sample - loss: 2.2911 - accuracy: 0.1140 - val_loss: 2.2919 - val_accuracy: 0.1060\n",
      "Epoch 157/200\n",
      "48000/48000 [==============================] - 1s 11us/sample - loss: 2.2910 - accuracy: 0.1140 - val_loss: 2.2919 - val_accuracy: 0.1060\n",
      "Epoch 158/200\n",
      "48000/48000 [==============================] - 1s 11us/sample - loss: 2.2910 - accuracy: 0.1140 - val_loss: 2.2918 - val_accuracy: 0.1060\n",
      "Epoch 159/200\n",
      "48000/48000 [==============================] - 1s 11us/sample - loss: 2.2909 - accuracy: 0.1140 - val_loss: 2.2917 - val_accuracy: 0.1060\n",
      "Epoch 160/200\n",
      "48000/48000 [==============================] - 1s 12us/sample - loss: 2.2908 - accuracy: 0.1140 - val_loss: 2.2917 - val_accuracy: 0.1060\n",
      "Epoch 161/200\n",
      "48000/48000 [==============================] - 1s 11us/sample - loss: 2.2908 - accuracy: 0.1140 - val_loss: 2.2916 - val_accuracy: 0.1060\n",
      "Epoch 162/200\n",
      "48000/48000 [==============================] - 1s 11us/sample - loss: 2.2907 - accuracy: 0.1140 - val_loss: 2.2915 - val_accuracy: 0.1060\n"
     ]
    },
    {
     "name": "stdout",
     "output_type": "stream",
     "text": [
      "Epoch 163/200\n",
      "48000/48000 [==============================] - 1s 11us/sample - loss: 2.2907 - accuracy: 0.1140 - val_loss: 2.2915 - val_accuracy: 0.1060\n",
      "Epoch 164/200\n",
      "48000/48000 [==============================] - 1s 11us/sample - loss: 2.2906 - accuracy: 0.1140 - val_loss: 2.2914 - val_accuracy: 0.1060\n",
      "Epoch 165/200\n",
      "48000/48000 [==============================] - 1s 11us/sample - loss: 2.2905 - accuracy: 0.1140 - val_loss: 2.2913 - val_accuracy: 0.1060\n",
      "Epoch 166/200\n",
      "48000/48000 [==============================] - 1s 11us/sample - loss: 2.2905 - accuracy: 0.1140 - val_loss: 2.2913 - val_accuracy: 0.1060\n",
      "Epoch 167/200\n",
      "48000/48000 [==============================] - 1s 11us/sample - loss: 2.2904 - accuracy: 0.1140 - val_loss: 2.2912 - val_accuracy: 0.1060\n",
      "Epoch 168/200\n",
      "48000/48000 [==============================] - 1s 11us/sample - loss: 2.2903 - accuracy: 0.1140 - val_loss: 2.2912 - val_accuracy: 0.1060\n",
      "Epoch 169/200\n",
      "48000/48000 [==============================] - 1s 11us/sample - loss: 2.2903 - accuracy: 0.1140 - val_loss: 2.2911 - val_accuracy: 0.1060\n",
      "Epoch 170/200\n",
      "48000/48000 [==============================] - 1s 11us/sample - loss: 2.2902 - accuracy: 0.1140 - val_loss: 2.2910 - val_accuracy: 0.1060\n",
      "Epoch 171/200\n",
      "48000/48000 [==============================] - 1s 11us/sample - loss: 2.2901 - accuracy: 0.1140 - val_loss: 2.2910 - val_accuracy: 0.1060\n",
      "Epoch 172/200\n",
      "48000/48000 [==============================] - 1s 11us/sample - loss: 2.2901 - accuracy: 0.1140 - val_loss: 2.2909 - val_accuracy: 0.1060\n",
      "Epoch 173/200\n",
      "48000/48000 [==============================] - 1s 11us/sample - loss: 2.2900 - accuracy: 0.1140 - val_loss: 2.2908 - val_accuracy: 0.1060\n",
      "Epoch 174/200\n",
      "48000/48000 [==============================] - 1s 11us/sample - loss: 2.2900 - accuracy: 0.1140 - val_loss: 2.2908 - val_accuracy: 0.1060\n",
      "Epoch 175/200\n",
      "48000/48000 [==============================] - 1s 11us/sample - loss: 2.2899 - accuracy: 0.1140 - val_loss: 2.2907 - val_accuracy: 0.1060\n",
      "Epoch 176/200\n",
      "48000/48000 [==============================] - 1s 11us/sample - loss: 2.2898 - accuracy: 0.1140 - val_loss: 2.2907 - val_accuracy: 0.1060\n",
      "Epoch 177/200\n",
      "48000/48000 [==============================] - 1s 11us/sample - loss: 2.2898 - accuracy: 0.1140 - val_loss: 2.2906 - val_accuracy: 0.1060\n",
      "Epoch 178/200\n",
      "48000/48000 [==============================] - 1s 11us/sample - loss: 2.2897 - accuracy: 0.1140 - val_loss: 2.2905 - val_accuracy: 0.1060\n",
      "Epoch 179/200\n",
      "48000/48000 [==============================] - 1s 11us/sample - loss: 2.2896 - accuracy: 0.1140 - val_loss: 2.2905 - val_accuracy: 0.1060\n",
      "Epoch 180/200\n",
      "48000/48000 [==============================] - 1s 11us/sample - loss: 2.2896 - accuracy: 0.1140 - val_loss: 2.2904 - val_accuracy: 0.1060\n",
      "Epoch 181/200\n",
      "48000/48000 [==============================] - 1s 11us/sample - loss: 2.2895 - accuracy: 0.1140 - val_loss: 2.2903 - val_accuracy: 0.1060\n",
      "Epoch 182/200\n",
      "48000/48000 [==============================] - 1s 11us/sample - loss: 2.2895 - accuracy: 0.1140 - val_loss: 2.2903 - val_accuracy: 0.1060\n",
      "Epoch 183/200\n",
      "48000/48000 [==============================] - 1s 11us/sample - loss: 2.2894 - accuracy: 0.1140 - val_loss: 2.2902 - val_accuracy: 0.1060\n",
      "Epoch 184/200\n",
      "48000/48000 [==============================] - 1s 11us/sample - loss: 2.2893 - accuracy: 0.1140 - val_loss: 2.2901 - val_accuracy: 0.1060\n",
      "Epoch 185/200\n",
      "48000/48000 [==============================] - 1s 11us/sample - loss: 2.2893 - accuracy: 0.1140 - val_loss: 2.2901 - val_accuracy: 0.1060\n",
      "Epoch 186/200\n",
      "48000/48000 [==============================] - 1s 11us/sample - loss: 2.2892 - accuracy: 0.1140 - val_loss: 2.2900 - val_accuracy: 0.1060\n",
      "Epoch 187/200\n",
      "48000/48000 [==============================] - 1s 11us/sample - loss: 2.2891 - accuracy: 0.1140 - val_loss: 2.2899 - val_accuracy: 0.1060\n",
      "Epoch 188/200\n",
      "48000/48000 [==============================] - 1s 11us/sample - loss: 2.2891 - accuracy: 0.1140 - val_loss: 2.2899 - val_accuracy: 0.1060\n",
      "Epoch 189/200\n",
      "48000/48000 [==============================] - 1s 11us/sample - loss: 2.2890 - accuracy: 0.1140 - val_loss: 2.2898 - val_accuracy: 0.1060\n",
      "Epoch 190/200\n",
      "48000/48000 [==============================] - 1s 11us/sample - loss: 2.2889 - accuracy: 0.1140 - val_loss: 2.2897 - val_accuracy: 0.1060\n",
      "Epoch 191/200\n",
      "48000/48000 [==============================] - 1s 12us/sample - loss: 2.2889 - accuracy: 0.1140 - val_loss: 2.2897 - val_accuracy: 0.1060\n",
      "Epoch 192/200\n",
      "48000/48000 [==============================] - 1s 11us/sample - loss: 2.2888 - accuracy: 0.1140 - val_loss: 2.2896 - val_accuracy: 0.1060\n",
      "Epoch 193/200\n",
      "48000/48000 [==============================] - 1s 11us/sample - loss: 2.2888 - accuracy: 0.1140 - val_loss: 2.2895 - val_accuracy: 0.1060\n",
      "Epoch 194/200\n",
      "48000/48000 [==============================] - 1s 11us/sample - loss: 2.2887 - accuracy: 0.1140 - val_loss: 2.2895 - val_accuracy: 0.1060\n",
      "Epoch 195/200\n",
      "48000/48000 [==============================] - 1s 11us/sample - loss: 2.2886 - accuracy: 0.1140 - val_loss: 2.2894 - val_accuracy: 0.1060\n",
      "Epoch 196/200\n",
      "48000/48000 [==============================] - 1s 11us/sample - loss: 2.2886 - accuracy: 0.1140 - val_loss: 2.2894 - val_accuracy: 0.1060\n",
      "Epoch 197/200\n",
      "48000/48000 [==============================] - 1s 11us/sample - loss: 2.2885 - accuracy: 0.1140 - val_loss: 2.2893 - val_accuracy: 0.1060\n",
      "Epoch 198/200\n",
      "48000/48000 [==============================] - 1s 11us/sample - loss: 2.2884 - accuracy: 0.1140 - val_loss: 2.2892 - val_accuracy: 0.1060\n",
      "Epoch 199/200\n",
      "48000/48000 [==============================] - 1s 11us/sample - loss: 2.2884 - accuracy: 0.1140 - val_loss: 2.2892 - val_accuracy: 0.1060\n",
      "Epoch 200/200\n",
      "48000/48000 [==============================] - 1s 11us/sample - loss: 2.2883 - accuracy: 0.1140 - val_loss: 2.2891 - val_accuracy: 0.1060\n"
     ]
    },
    {
     "data": {
      "text/plain": [
       "<tensorflow.python.keras.callbacks.History at 0x275eb02bf88>"
      ]
     },
     "execution_count": 50,
     "metadata": {},
     "output_type": "execute_result"
    }
   ],
   "source": [
    "# Training the model.\n",
    "model.fit(X_train, Y_train,\n",
    "            batch_size=BATCH_SIZE, epochs=EPOCHS,\n",
    "            verbose=VERBOSE, validation_split=VALIDATION_SPLIT)\n",
    "#evaluate the model\n",
    "test_loss, test_acc = model.evaluate(X_test, Y_test )\n"
   ]
  },
  {
   "cell_type": "code",
   "execution_count": 56,
   "id": "minute-protein",
   "metadata": {
    "ExecuteTime": {
     "end_time": "2021-08-09T19:12:41.476298Z",
     "start_time": "2021-08-09T19:12:41.461217Z"
    },
    "scrolled": false
   },
   "outputs": [
    {
     "name": "stdout",
     "output_type": "stream",
     "text": [
      "Test accuracy: 0.1135\n"
     ]
    }
   ],
   "source": [
    "print('Test accuracy:', test_acc)"
   ]
  },
  {
   "cell_type": "code",
   "execution_count": null,
   "id": "pending-shepherd",
   "metadata": {},
   "outputs": [],
   "source": []
  }
 ],
 "metadata": {
  "kernelspec": {
   "display_name": "tensorflow",
   "language": "python",
   "name": "tensorflow"
  },
  "language_info": {
   "codemirror_mode": {
    "name": "ipython",
    "version": 3
   },
   "file_extension": ".py",
   "mimetype": "text/x-python",
   "name": "python",
   "nbconvert_exporter": "python",
   "pygments_lexer": "ipython3",
   "version": "3.7.9"
  },
  "toc": {
   "base_numbering": 1,
   "nav_menu": {},
   "number_sections": true,
   "sideBar": true,
   "skip_h1_title": false,
   "title_cell": "Table of Contents",
   "title_sidebar": "Contents",
   "toc_cell": true,
   "toc_position": {},
   "toc_section_display": true,
   "toc_window_display": true
  }
 },
 "nbformat": 4,
 "nbformat_minor": 5
}
