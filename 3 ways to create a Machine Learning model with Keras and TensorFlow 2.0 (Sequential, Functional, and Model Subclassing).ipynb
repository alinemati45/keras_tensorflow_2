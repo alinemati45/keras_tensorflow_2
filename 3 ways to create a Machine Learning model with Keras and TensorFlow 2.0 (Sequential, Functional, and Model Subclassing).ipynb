{
 "cells": [
  {
   "cell_type": "markdown",
   "id": "rapid-examination",
   "metadata": {
    "toc": true
   },
   "source": [
    "<h1>Table of Contents<span class=\"tocSkip\"></span></h1>\n",
    "<div class=\"toc\"><ul class=\"toc-item\"><li><span><a href=\"#3-ways-to-create-a-Machine-Learning-model-with-Keras-and-TensorFlow-2.0\" data-toc-modified-id=\"3-ways-to-create-a-Machine-Learning-model-with-Keras-and-TensorFlow-2.0-1\"><span class=\"toc-item-num\">1&nbsp;&nbsp;</span>3 ways to create a Machine Learning model with Keras and TensorFlow 2.0</a></span><ul class=\"toc-item\"><li><span><a href=\"#For-the-purpose-of-exploring-data,-let’s-load-data-into-a-DataFrame\" data-toc-modified-id=\"For-the-purpose-of-exploring-data,-let’s-load-data-into-a-DataFrame-1.1\"><span class=\"toc-item-num\">1.1&nbsp;&nbsp;</span>For the purpose of exploring data, let’s load data into a DataFrame</a></span></li><li><span><a href=\"#Preparing-data-for-Keras-and-TensorFlow\" data-toc-modified-id=\"Preparing-data-for-Keras-and-TensorFlow-1.2\"><span class=\"toc-item-num\">1.2&nbsp;&nbsp;</span>Preparing data for Keras and TensorFlow</a></span></li></ul></li><li><span><a href=\"#Sequential-model\" data-toc-modified-id=\"Sequential-model-2\"><span class=\"toc-item-num\">2&nbsp;&nbsp;</span>Sequential model</a></span><ul class=\"toc-item\"><li><span><a href=\"#When-to-use-Sequential-Model\" data-toc-modified-id=\"When-to-use-Sequential-Model-2.1\"><span class=\"toc-item-num\">2.1&nbsp;&nbsp;</span>When to use Sequential Model</a></span></li></ul></li><li><span><a href=\"#Functional-API\" data-toc-modified-id=\"Functional-API-3\"><span class=\"toc-item-num\">3&nbsp;&nbsp;</span>Functional API</a></span></li><li><span><a href=\"#Multi-input-and-multi-output-models\" data-toc-modified-id=\"Multi-input-and-multi-output-models-4\"><span class=\"toc-item-num\">4&nbsp;&nbsp;</span>Multi-input and multi-output models</a></span><ul class=\"toc-item\"><li><span><a href=\"#hared-layer-in-Functional-API\" data-toc-modified-id=\"hared-layer-in-Functional-API-4.1\"><span class=\"toc-item-num\">4.1&nbsp;&nbsp;</span>hared layer in Functional API</a></span></li></ul></li><li><span><a href=\"#Model-Subclassing\" data-toc-modified-id=\"Model-Subclassing-5\"><span class=\"toc-item-num\">5&nbsp;&nbsp;</span>Model Subclassing</a></span></li></ul></div>"
   ]
  },
  {
   "cell_type": "markdown",
   "id": "passive-diving",
   "metadata": {},
   "source": [
    "# 3 ways to create a Machine Learning model with Keras and TensorFlow 2.0\n",
    "\n",
    "the 3 different ways to implement a Machine Learning model with Keras and TensorFlow 2.0\n",
    "\n",
    "    Sequential Model is the easiest way to get up and running with Keras in TensorFlow 2.0\n",
    "    Functional API is for more complex models, in particular model with multiple inputs or outputs.\n",
    "    Model Subclassing is fully-customizable and enables us to implement our own custom forward-pass of the model\n",
    "\n",
    "In this article, we are going to learn how to build a Machine Learning model with the three different ways and how to choose the right one for our project.\n",
    "Environment setup, source code, and dataset preparation\n",
    "\n",
    "In order to run this tutorial, you need to install\n",
    "\n",
    "    TensorFlow 2, numpy, pandas, sklean, matplotlib\n",
    "\n",
    "They can all be installed directly vis PyPI and I strongly recommend to create a new Virtual Environment. It is a best practice to avoid using base(root) as it might break your system.\n",
    "\n",
    "For a tutorial on creating a Python virtual environment, you can take a look here:"
   ]
  },
  {
   "cell_type": "code",
   "execution_count": 1,
   "id": "interpreted-manor",
   "metadata": {
    "ExecuteTime": {
     "end_time": "2021-09-27T02:58:16.279545Z",
     "start_time": "2021-09-27T02:58:16.264991Z"
    }
   },
   "outputs": [],
   "source": [
    "from IPython.core.interactiveshell import InteractiveShell\n",
    "InteractiveShell.ast_node_interactivity = \"all\""
   ]
  },
  {
   "cell_type": "code",
   "execution_count": 2,
   "id": "controversial-gregory",
   "metadata": {
    "ExecuteTime": {
     "end_time": "2021-09-27T02:58:18.966771Z",
     "start_time": "2021-09-27T02:58:16.280545Z"
    }
   },
   "outputs": [],
   "source": [
    "import tensorflow as tf\n",
    "import pandas as pd\n",
    "import numpy as np\n",
    "import matplotlib.pylab as plt\n",
    "from sklearn.datasets import load_iris\n",
    "from sklearn.model_selection import train_test_split\n",
    "iris=load_iris()"
   ]
  },
  {
   "cell_type": "markdown",
   "id": "appropriate-salmon",
   "metadata": {},
   "source": [
    "## For the purpose of exploring data, let’s load data into a DataFrame\n"
   ]
  },
  {
   "cell_type": "code",
   "execution_count": 3,
   "id": "earned-state",
   "metadata": {
    "ExecuteTime": {
     "end_time": "2021-09-27T02:58:18.982770Z",
     "start_time": "2021-09-27T02:58:18.967769Z"
    }
   },
   "outputs": [
    {
     "data": {
      "text/html": [
       "<div>\n",
       "<style scoped>\n",
       "    .dataframe tbody tr th:only-of-type {\n",
       "        vertical-align: middle;\n",
       "    }\n",
       "\n",
       "    .dataframe tbody tr th {\n",
       "        vertical-align: top;\n",
       "    }\n",
       "\n",
       "    .dataframe thead th {\n",
       "        text-align: right;\n",
       "    }\n",
       "</style>\n",
       "<table border=\"1\" class=\"dataframe\">\n",
       "  <thead>\n",
       "    <tr style=\"text-align: right;\">\n",
       "      <th></th>\n",
       "      <th>sepal length (cm)</th>\n",
       "      <th>sepal width (cm)</th>\n",
       "      <th>petal length (cm)</th>\n",
       "      <th>petal width (cm)</th>\n",
       "      <th>label</th>\n",
       "    </tr>\n",
       "  </thead>\n",
       "  <tbody>\n",
       "    <tr>\n",
       "      <th>0</th>\n",
       "      <td>5.1</td>\n",
       "      <td>3.5</td>\n",
       "      <td>1.4</td>\n",
       "      <td>0.2</td>\n",
       "      <td>setosa</td>\n",
       "    </tr>\n",
       "    <tr>\n",
       "      <th>1</th>\n",
       "      <td>4.9</td>\n",
       "      <td>3.0</td>\n",
       "      <td>1.4</td>\n",
       "      <td>0.2</td>\n",
       "      <td>setosa</td>\n",
       "    </tr>\n",
       "    <tr>\n",
       "      <th>2</th>\n",
       "      <td>4.7</td>\n",
       "      <td>3.2</td>\n",
       "      <td>1.3</td>\n",
       "      <td>0.2</td>\n",
       "      <td>setosa</td>\n",
       "    </tr>\n",
       "    <tr>\n",
       "      <th>3</th>\n",
       "      <td>4.6</td>\n",
       "      <td>3.1</td>\n",
       "      <td>1.5</td>\n",
       "      <td>0.2</td>\n",
       "      <td>setosa</td>\n",
       "    </tr>\n",
       "    <tr>\n",
       "      <th>4</th>\n",
       "      <td>5.0</td>\n",
       "      <td>3.6</td>\n",
       "      <td>1.4</td>\n",
       "      <td>0.2</td>\n",
       "      <td>setosa</td>\n",
       "    </tr>\n",
       "  </tbody>\n",
       "</table>\n",
       "</div>"
      ],
      "text/plain": [
       "   sepal length (cm)  sepal width (cm)  petal length (cm)  petal width (cm)  \\\n",
       "0                5.1               3.5                1.4               0.2   \n",
       "1                4.9               3.0                1.4               0.2   \n",
       "2                4.7               3.2                1.3               0.2   \n",
       "3                4.6               3.1                1.5               0.2   \n",
       "4                5.0               3.6                1.4               0.2   \n",
       "\n",
       "    label  \n",
       "0  setosa  \n",
       "1  setosa  \n",
       "2  setosa  \n",
       "3  setosa  \n",
       "4  setosa  "
      ]
     },
     "execution_count": 3,
     "metadata": {},
     "output_type": "execute_result"
    }
   ],
   "source": [
    "# Load data into a DataFrame\n",
    "\n",
    "df = pd.DataFrame(iris.data , columns=iris.feature_names)\n",
    "\n",
    "# Convert datatype to float\n",
    "df = df.astype(float)\n",
    "# append \"target\" and name it \"label\"\n",
    "df['label'] = iris.target\n",
    "# Use string label instead\n",
    "df['label'] = df.label.replace(dict(enumerate(iris.target_names)))\n",
    "df.head()"
   ]
  },
  {
   "cell_type": "markdown",
   "id": "quantitative-amplifier",
   "metadata": {},
   "source": [
    "## Preparing data for Keras and TensorFlow"
   ]
  },
  {
   "cell_type": "code",
   "execution_count": 4,
   "id": "organic-radical",
   "metadata": {
    "ExecuteTime": {
     "end_time": "2021-09-27T02:58:19.014719Z",
     "start_time": "2021-09-27T02:58:18.983798Z"
    }
   },
   "outputs": [
    {
     "data": {
      "text/html": [
       "<div>\n",
       "<style scoped>\n",
       "    .dataframe tbody tr th:only-of-type {\n",
       "        vertical-align: middle;\n",
       "    }\n",
       "\n",
       "    .dataframe tbody tr th {\n",
       "        vertical-align: top;\n",
       "    }\n",
       "\n",
       "    .dataframe thead th {\n",
       "        text-align: right;\n",
       "    }\n",
       "</style>\n",
       "<table border=\"1\" class=\"dataframe\">\n",
       "  <thead>\n",
       "    <tr style=\"text-align: right;\">\n",
       "      <th></th>\n",
       "      <th>label_setosa</th>\n",
       "      <th>label_versicolor</th>\n",
       "      <th>label_virginica</th>\n",
       "    </tr>\n",
       "  </thead>\n",
       "  <tbody>\n",
       "    <tr>\n",
       "      <th>0</th>\n",
       "      <td>1</td>\n",
       "      <td>0</td>\n",
       "      <td>0</td>\n",
       "    </tr>\n",
       "    <tr>\n",
       "      <th>1</th>\n",
       "      <td>1</td>\n",
       "      <td>0</td>\n",
       "      <td>0</td>\n",
       "    </tr>\n",
       "    <tr>\n",
       "      <th>2</th>\n",
       "      <td>1</td>\n",
       "      <td>0</td>\n",
       "      <td>0</td>\n",
       "    </tr>\n",
       "    <tr>\n",
       "      <th>3</th>\n",
       "      <td>1</td>\n",
       "      <td>0</td>\n",
       "      <td>0</td>\n",
       "    </tr>\n",
       "    <tr>\n",
       "      <th>4</th>\n",
       "      <td>1</td>\n",
       "      <td>0</td>\n",
       "      <td>0</td>\n",
       "    </tr>\n",
       "    <tr>\n",
       "      <th>...</th>\n",
       "      <td>...</td>\n",
       "      <td>...</td>\n",
       "      <td>...</td>\n",
       "    </tr>\n",
       "    <tr>\n",
       "      <th>145</th>\n",
       "      <td>0</td>\n",
       "      <td>0</td>\n",
       "      <td>1</td>\n",
       "    </tr>\n",
       "    <tr>\n",
       "      <th>146</th>\n",
       "      <td>0</td>\n",
       "      <td>0</td>\n",
       "      <td>1</td>\n",
       "    </tr>\n",
       "    <tr>\n",
       "      <th>147</th>\n",
       "      <td>0</td>\n",
       "      <td>0</td>\n",
       "      <td>1</td>\n",
       "    </tr>\n",
       "    <tr>\n",
       "      <th>148</th>\n",
       "      <td>0</td>\n",
       "      <td>0</td>\n",
       "      <td>1</td>\n",
       "    </tr>\n",
       "    <tr>\n",
       "      <th>149</th>\n",
       "      <td>0</td>\n",
       "      <td>0</td>\n",
       "      <td>1</td>\n",
       "    </tr>\n",
       "  </tbody>\n",
       "</table>\n",
       "<p>150 rows × 3 columns</p>\n",
       "</div>"
      ],
      "text/plain": [
       "     label_setosa  label_versicolor  label_virginica\n",
       "0               1                 0                0\n",
       "1               1                 0                0\n",
       "2               1                 0                0\n",
       "3               1                 0                0\n",
       "4               1                 0                0\n",
       "..            ...               ...              ...\n",
       "145             0                 0                1\n",
       "146             0                 0                1\n",
       "147             0                 0                1\n",
       "148             0                 0                1\n",
       "149             0                 0                1\n",
       "\n",
       "[150 rows x 3 columns]"
      ]
     },
     "execution_count": 4,
     "metadata": {},
     "output_type": "execute_result"
    },
    {
     "data": {
      "text/html": [
       "<div>\n",
       "<style scoped>\n",
       "    .dataframe tbody tr th:only-of-type {\n",
       "        vertical-align: middle;\n",
       "    }\n",
       "\n",
       "    .dataframe tbody tr th {\n",
       "        vertical-align: top;\n",
       "    }\n",
       "\n",
       "    .dataframe thead th {\n",
       "        text-align: right;\n",
       "    }\n",
       "</style>\n",
       "<table border=\"1\" class=\"dataframe\">\n",
       "  <thead>\n",
       "    <tr style=\"text-align: right;\">\n",
       "      <th></th>\n",
       "      <th>sepal length (cm)</th>\n",
       "      <th>sepal width (cm)</th>\n",
       "      <th>petal length (cm)</th>\n",
       "      <th>petal width (cm)</th>\n",
       "      <th>label</th>\n",
       "      <th>label_setosa</th>\n",
       "      <th>label_versicolor</th>\n",
       "      <th>label_virginica</th>\n",
       "    </tr>\n",
       "  </thead>\n",
       "  <tbody>\n",
       "    <tr>\n",
       "      <th>0</th>\n",
       "      <td>5.1</td>\n",
       "      <td>3.5</td>\n",
       "      <td>1.4</td>\n",
       "      <td>0.2</td>\n",
       "      <td>setosa</td>\n",
       "      <td>1</td>\n",
       "      <td>0</td>\n",
       "      <td>0</td>\n",
       "    </tr>\n",
       "    <tr>\n",
       "      <th>1</th>\n",
       "      <td>4.9</td>\n",
       "      <td>3.0</td>\n",
       "      <td>1.4</td>\n",
       "      <td>0.2</td>\n",
       "      <td>setosa</td>\n",
       "      <td>1</td>\n",
       "      <td>0</td>\n",
       "      <td>0</td>\n",
       "    </tr>\n",
       "    <tr>\n",
       "      <th>2</th>\n",
       "      <td>4.7</td>\n",
       "      <td>3.2</td>\n",
       "      <td>1.3</td>\n",
       "      <td>0.2</td>\n",
       "      <td>setosa</td>\n",
       "      <td>1</td>\n",
       "      <td>0</td>\n",
       "      <td>0</td>\n",
       "    </tr>\n",
       "    <tr>\n",
       "      <th>3</th>\n",
       "      <td>4.6</td>\n",
       "      <td>3.1</td>\n",
       "      <td>1.5</td>\n",
       "      <td>0.2</td>\n",
       "      <td>setosa</td>\n",
       "      <td>1</td>\n",
       "      <td>0</td>\n",
       "      <td>0</td>\n",
       "    </tr>\n",
       "    <tr>\n",
       "      <th>4</th>\n",
       "      <td>5.0</td>\n",
       "      <td>3.6</td>\n",
       "      <td>1.4</td>\n",
       "      <td>0.2</td>\n",
       "      <td>setosa</td>\n",
       "      <td>1</td>\n",
       "      <td>0</td>\n",
       "      <td>0</td>\n",
       "    </tr>\n",
       "  </tbody>\n",
       "</table>\n",
       "</div>"
      ],
      "text/plain": [
       "   sepal length (cm)  sepal width (cm)  petal length (cm)  petal width (cm)  \\\n",
       "0                5.1               3.5                1.4               0.2   \n",
       "1                4.9               3.0                1.4               0.2   \n",
       "2                4.7               3.2                1.3               0.2   \n",
       "3                4.6               3.1                1.5               0.2   \n",
       "4                5.0               3.6                1.4               0.2   \n",
       "\n",
       "    label  label_setosa  label_versicolor  label_virginica  \n",
       "0  setosa             1                 0                0  \n",
       "1  setosa             1                 0                0  \n",
       "2  setosa             1                 0                0  \n",
       "3  setosa             1                 0                0  \n",
       "4  setosa             1                 0                0  "
      ]
     },
     "execution_count": 4,
     "metadata": {},
     "output_type": "execute_result"
    },
    {
     "data": {
      "text/html": [
       "<div>\n",
       "<style scoped>\n",
       "    .dataframe tbody tr th:only-of-type {\n",
       "        vertical-align: middle;\n",
       "    }\n",
       "\n",
       "    .dataframe tbody tr th {\n",
       "        vertical-align: top;\n",
       "    }\n",
       "\n",
       "    .dataframe thead th {\n",
       "        text-align: right;\n",
       "    }\n",
       "</style>\n",
       "<table border=\"1\" class=\"dataframe\">\n",
       "  <thead>\n",
       "    <tr style=\"text-align: right;\">\n",
       "      <th></th>\n",
       "      <th>sepal length (cm)</th>\n",
       "      <th>sepal width (cm)</th>\n",
       "      <th>petal length (cm)</th>\n",
       "      <th>petal width (cm)</th>\n",
       "      <th>label_setosa</th>\n",
       "      <th>label_versicolor</th>\n",
       "      <th>label_virginica</th>\n",
       "    </tr>\n",
       "  </thead>\n",
       "  <tbody>\n",
       "    <tr>\n",
       "      <th>0</th>\n",
       "      <td>5.1</td>\n",
       "      <td>3.5</td>\n",
       "      <td>1.4</td>\n",
       "      <td>0.2</td>\n",
       "      <td>1</td>\n",
       "      <td>0</td>\n",
       "      <td>0</td>\n",
       "    </tr>\n",
       "    <tr>\n",
       "      <th>1</th>\n",
       "      <td>4.9</td>\n",
       "      <td>3.0</td>\n",
       "      <td>1.4</td>\n",
       "      <td>0.2</td>\n",
       "      <td>1</td>\n",
       "      <td>0</td>\n",
       "      <td>0</td>\n",
       "    </tr>\n",
       "    <tr>\n",
       "      <th>2</th>\n",
       "      <td>4.7</td>\n",
       "      <td>3.2</td>\n",
       "      <td>1.3</td>\n",
       "      <td>0.2</td>\n",
       "      <td>1</td>\n",
       "      <td>0</td>\n",
       "      <td>0</td>\n",
       "    </tr>\n",
       "    <tr>\n",
       "      <th>3</th>\n",
       "      <td>4.6</td>\n",
       "      <td>3.1</td>\n",
       "      <td>1.5</td>\n",
       "      <td>0.2</td>\n",
       "      <td>1</td>\n",
       "      <td>0</td>\n",
       "      <td>0</td>\n",
       "    </tr>\n",
       "    <tr>\n",
       "      <th>4</th>\n",
       "      <td>5.0</td>\n",
       "      <td>3.6</td>\n",
       "      <td>1.4</td>\n",
       "      <td>0.2</td>\n",
       "      <td>1</td>\n",
       "      <td>0</td>\n",
       "      <td>0</td>\n",
       "    </tr>\n",
       "  </tbody>\n",
       "</table>\n",
       "</div>"
      ],
      "text/plain": [
       "   sepal length (cm)  sepal width (cm)  petal length (cm)  petal width (cm)  \\\n",
       "0                5.1               3.5                1.4               0.2   \n",
       "1                4.9               3.0                1.4               0.2   \n",
       "2                4.7               3.2                1.3               0.2   \n",
       "3                4.6               3.1                1.5               0.2   \n",
       "4                5.0               3.6                1.4               0.2   \n",
       "\n",
       "   label_setosa  label_versicolor  label_virginica  \n",
       "0             1                 0                0  \n",
       "1             1                 0                0  \n",
       "2             1                 0                0  \n",
       "3             1                 0                0  \n",
       "4             1                 0                0  "
      ]
     },
     "execution_count": 4,
     "metadata": {},
     "output_type": "execute_result"
    }
   ],
   "source": [
    "# label -> one-hot encoding\n",
    "label = pd.get_dummies(df['label'])\n",
    "label.columns = ['label_' + str(x) for x in label.columns]\n",
    "label\n",
    "df = pd.concat([df, label], axis=1)\n",
    "df.head()\n",
    "\n",
    "# drop old label\n",
    "df.drop(['label'], axis=1, inplace=True)\n",
    "df.head()\n"
   ]
  },
  {
   "cell_type": "code",
   "execution_count": 5,
   "id": "rotary-income",
   "metadata": {
    "ExecuteTime": {
     "end_time": "2021-09-27T02:58:19.029988Z",
     "start_time": "2021-09-27T02:58:19.015718Z"
    }
   },
   "outputs": [
    {
     "data": {
      "text/plain": [
       "((112, 4), (38, 4))"
      ]
     },
     "execution_count": 5,
     "metadata": {},
     "output_type": "execute_result"
    }
   ],
   "source": [
    "# Creating X and y\n",
    "\n",
    "X = df[['sepal length (cm)', 'sepal width (cm)', 'petal length (cm)', 'petal width (cm)']]\n",
    "# Convert DataFrame into np array\n",
    "X = np.asarray(X)\n",
    "\n",
    "y = df[['label_setosa', 'label_versicolor', 'label_virginica']]\n",
    "# Convert DataFrame into np array\n",
    "y = np.asarray(y)\n",
    "\n",
    "# Split the data set in a training set (75%) and a test set (25%)\n",
    "X_train, X_test, y_train, y_test = train_test_split(\n",
    "  X,\n",
    "  y,\n",
    "  test_size=0.25\n",
    ")\n",
    "\n",
    "X_train.shape , X_test.shape"
   ]
  },
  {
   "cell_type": "markdown",
   "id": "spoken-northwest",
   "metadata": {},
   "source": [
    "# Sequential model\n",
    "The Sequential model is a linear stack of layers. There are 2 ways to create a Sequential model\n",
    "\n",
    "    Passing a list of layers to the constructor\n",
    "    Simply add layers via the .add() \n",
    "    \n",
    "In order to train a Sequential model, we first have to configure our model using model.compile() with the following arguments:\n",
    "\n",
    "    Use optimizer RMSProps (rmsprop)\n",
    "    Use categorical cross-entropy loss function (categorical_crossentropy) for our multiple-class classification problem\n",
    "    For simplicity, use accuracy as our evaluation metrics to evaluate the model during training and testing.    \n",
    "  \n",
    "## When to use Sequential Model\n",
    "\n",
    "A Sequential model is appropriate for a plain stack of layers where each layer has exactly one input and one output.\n",
    "\n",
    "A Sequential model is not appropriate when [1]:\n",
    "\n",
    "    Your model has multiple inputs or multiple outputs\n",
    "    Any of your layers have multiple inputs or multiple outputs\n",
    "    You need to do layer sharing\n",
    "    You want non-linear topology (e.g. a residual connection, a multi-branch model)"
   ]
  },
  {
   "cell_type": "code",
   "execution_count": 6,
   "id": "analyzed-christian",
   "metadata": {
    "ExecuteTime": {
     "end_time": "2021-09-27T02:58:19.720863Z",
     "start_time": "2021-09-27T02:58:19.030988Z"
    }
   },
   "outputs": [
    {
     "name": "stdout",
     "output_type": "stream",
     "text": [
      "Model: \"sequential\"\n",
      "_________________________________________________________________\n",
      "Layer (type)                 Output Shape              Param #   \n",
      "=================================================================\n",
      "dense (Dense)                (None, 5)                 25        \n",
      "_________________________________________________________________\n",
      "dense_1 (Dense)              (None, 10)                60        \n",
      "_________________________________________________________________\n",
      "dense_2 (Dense)              (None, 3)                 33        \n",
      "=================================================================\n",
      "Total params: 118\n",
      "Trainable params: 118\n",
      "Non-trainable params: 0\n",
      "_________________________________________________________________\n"
     ]
    }
   ],
   "source": [
    "# Passing a list of layers to the constructor\n",
    "from tensorflow.keras.models import Sequential\n",
    "from tensorflow.keras.layers import Dense\n",
    "\n",
    "model = Sequential([\n",
    "    Dense(5, activation='relu', input_shape=(4,)),\n",
    "    Dense(10, activation='relu'),\n",
    "    Dense(3, activation='softmax'),\n",
    "])\n",
    "\n",
    "model.summary()\n"
   ]
  },
  {
   "cell_type": "code",
   "execution_count": 7,
   "id": "portable-concern",
   "metadata": {
    "ExecuteTime": {
     "end_time": "2021-09-27T02:58:19.766736Z",
     "start_time": "2021-09-27T02:58:19.722865Z"
    }
   },
   "outputs": [
    {
     "name": "stdout",
     "output_type": "stream",
     "text": [
      "Model: \"sequential_1\"\n",
      "_________________________________________________________________\n",
      "Layer (type)                 Output Shape              Param #   \n",
      "=================================================================\n",
      "dense_3 (Dense)              (None, 5)                 25        \n",
      "_________________________________________________________________\n",
      "dense_4 (Dense)              (None, 10)                60        \n",
      "_________________________________________________________________\n",
      "dense_5 (Dense)              (None, 3)                 33        \n",
      "=================================================================\n",
      "Total params: 118\n",
      "Trainable params: 118\n",
      "Non-trainable params: 0\n",
      "_________________________________________________________________\n"
     ]
    }
   ],
   "source": [
    "# Adding layer via add() method\n",
    "model_seq = Sequential()\n",
    "model_seq.add(Dense(5, activation='relu', input_shape=(4,)))\n",
    "model_seq.add(Dense(10, activation='relu'))\n",
    "model_seq.add(Dense(3, activation='softmax'))\n",
    "\n",
    "model_seq.summary()"
   ]
  },
  {
   "cell_type": "code",
   "execution_count": 8,
   "id": "satisfied-actress",
   "metadata": {
    "ExecuteTime": {
     "end_time": "2021-09-27T02:58:21.068624Z",
     "start_time": "2021-09-27T02:58:19.767704Z"
    }
   },
   "outputs": [
    {
     "name": "stdout",
     "output_type": "stream",
     "text": [
      "Train on 89 samples, validate on 23 samples\n",
      "Epoch 1/30\n",
      "89/89 [==============================] - 1s 9ms/sample - loss: 1.0845 - accuracy: 0.2921 - val_loss: 1.0355 - val_accuracy: 0.3478\n",
      "Epoch 2/30\n",
      "89/89 [==============================] - 0s 165us/sample - loss: 1.0567 - accuracy: 0.2921 - val_loss: 1.0200 - val_accuracy: 0.3478\n",
      "Epoch 3/30\n",
      "89/89 [==============================] - 0s 133us/sample - loss: 1.0379 - accuracy: 0.2921 - val_loss: 1.0075 - val_accuracy: 0.3478\n",
      "Epoch 4/30\n",
      "89/89 [==============================] - 0s 155us/sample - loss: 1.0236 - accuracy: 0.2921 - val_loss: 0.9968 - val_accuracy: 0.3478\n",
      "Epoch 5/30\n",
      "89/89 [==============================] - 0s 135us/sample - loss: 1.0104 - accuracy: 0.2921 - val_loss: 0.9886 - val_accuracy: 0.3478\n",
      "Epoch 6/30\n",
      "89/89 [==============================] - 0s 144us/sample - loss: 0.9965 - accuracy: 0.2921 - val_loss: 0.9816 - val_accuracy: 0.3478\n",
      "Epoch 7/30\n",
      "89/89 [==============================] - 0s 146us/sample - loss: 0.9829 - accuracy: 0.2921 - val_loss: 0.9735 - val_accuracy: 0.3478\n",
      "Epoch 8/30\n",
      "89/89 [==============================] - 0s 145us/sample - loss: 0.9711 - accuracy: 0.2921 - val_loss: 0.9659 - val_accuracy: 0.3478\n",
      "Epoch 9/30\n",
      "89/89 [==============================] - 0s 151us/sample - loss: 0.9609 - accuracy: 0.2921 - val_loss: 0.9588 - val_accuracy: 0.3478\n",
      "Epoch 10/30\n",
      "89/89 [==============================] - 0s 146us/sample - loss: 0.9512 - accuracy: 0.2921 - val_loss: 0.9518 - val_accuracy: 0.3478\n",
      "Epoch 11/30\n",
      "89/89 [==============================] - 0s 146us/sample - loss: 0.9428 - accuracy: 0.2921 - val_loss: 0.9425 - val_accuracy: 0.3478\n",
      "Epoch 12/30\n",
      "89/89 [==============================] - 0s 168us/sample - loss: 0.9353 - accuracy: 0.2921 - val_loss: 0.9351 - val_accuracy: 0.3478\n",
      "Epoch 13/30\n",
      "89/89 [==============================] - 0s 147us/sample - loss: 0.9276 - accuracy: 0.2921 - val_loss: 0.9296 - val_accuracy: 0.3478\n",
      "Epoch 14/30\n",
      "89/89 [==============================] - 0s 191us/sample - loss: 0.9195 - accuracy: 0.2921 - val_loss: 0.9221 - val_accuracy: 0.3478\n",
      "Epoch 15/30\n",
      "89/89 [==============================] - 0s 169us/sample - loss: 0.9122 - accuracy: 0.2921 - val_loss: 0.9172 - val_accuracy: 0.3478\n",
      "Epoch 16/30\n",
      "89/89 [==============================] - 0s 147us/sample - loss: 0.9043 - accuracy: 0.3034 - val_loss: 0.9099 - val_accuracy: 0.3478\n",
      "Epoch 17/30\n",
      "89/89 [==============================] - 0s 154us/sample - loss: 0.8972 - accuracy: 0.3034 - val_loss: 0.9019 - val_accuracy: 0.3478\n",
      "Epoch 18/30\n",
      "89/89 [==============================] - 0s 154us/sample - loss: 0.8913 - accuracy: 0.2921 - val_loss: 0.8995 - val_accuracy: 0.3478\n",
      "Epoch 19/30\n",
      "89/89 [==============================] - 0s 142us/sample - loss: 0.8823 - accuracy: 0.3371 - val_loss: 0.8923 - val_accuracy: 0.3478\n",
      "Epoch 20/30\n",
      "89/89 [==============================] - 0s 157us/sample - loss: 0.8734 - accuracy: 0.4157 - val_loss: 0.8847 - val_accuracy: 0.3478\n",
      "Epoch 21/30\n",
      "89/89 [==============================] - 0s 157us/sample - loss: 0.8644 - accuracy: 0.4382 - val_loss: 0.8804 - val_accuracy: 0.3913\n",
      "Epoch 22/30\n",
      "89/89 [==============================] - 0s 180us/sample - loss: 0.8570 - accuracy: 0.4607 - val_loss: 0.8724 - val_accuracy: 0.3478\n",
      "Epoch 23/30\n",
      "89/89 [==============================] - 0s 146us/sample - loss: 0.8500 - accuracy: 0.3933 - val_loss: 0.8678 - val_accuracy: 0.3478\n",
      "Epoch 24/30\n",
      "89/89 [==============================] - 0s 146us/sample - loss: 0.8427 - accuracy: 0.4157 - val_loss: 0.8652 - val_accuracy: 0.3913\n",
      "Epoch 25/30\n",
      "89/89 [==============================] - 0s 180us/sample - loss: 0.8354 - accuracy: 0.4944 - val_loss: 0.8585 - val_accuracy: 0.3913\n",
      "Epoch 26/30\n",
      "89/89 [==============================] - 0s 146us/sample - loss: 0.8288 - accuracy: 0.5169 - val_loss: 0.8506 - val_accuracy: 0.3913\n",
      "Epoch 27/30\n",
      "89/89 [==============================] - 0s 146us/sample - loss: 0.8264 - accuracy: 0.5169 - val_loss: 0.8432 - val_accuracy: 0.3913\n",
      "Epoch 28/30\n",
      "89/89 [==============================] - 0s 146us/sample - loss: 0.8184 - accuracy: 0.4157 - val_loss: 0.8398 - val_accuracy: 0.3913\n",
      "Epoch 29/30\n",
      "89/89 [==============================] - 0s 169us/sample - loss: 0.8118 - accuracy: 0.4831 - val_loss: 0.8354 - val_accuracy: 0.3913\n",
      "Epoch 30/30\n",
      "89/89 [==============================] - 0s 157us/sample - loss: 0.8070 - accuracy: 0.4944 - val_loss: 0.8279 - val_accuracy: 0.3913\n"
     ]
    }
   ],
   "source": [
    "model_seq.compile(\n",
    "    optimizer='rmsprop',\n",
    "    loss='categorical_crossentropy',\n",
    "    metrics=['accuracy']\n",
    ")\n",
    "\n",
    "history = model_seq.fit(X_train, y_train,\n",
    "                    batch_size= 64,\n",
    "                    epochs= 30,\n",
    "                    validation_split=0.2\n",
    "                   )"
   ]
  },
  {
   "cell_type": "code",
   "execution_count": 9,
   "id": "growing-danish",
   "metadata": {
    "ExecuteTime": {
     "end_time": "2021-09-27T02:58:21.269865Z",
     "start_time": "2021-09-27T02:58:21.069625Z"
    }
   },
   "outputs": [
    {
     "ename": "NameError",
     "evalue": "name 'my_custom_model' is not defined",
     "output_type": "error",
     "traceback": [
      "\u001b[1;31m---------------------------------------------------------------------------\u001b[0m",
      "\u001b[1;31mNameError\u001b[0m                                 Traceback (most recent call last)",
      "\u001b[1;32m<ipython-input-9-b108ea35eb00>\u001b[0m in \u001b[0;36m<module>\u001b[1;34m\u001b[0m\n\u001b[0;32m     15\u001b[0m     \u001b[0mplt\u001b[0m\u001b[1;33m.\u001b[0m\u001b[0mshow\u001b[0m\u001b[1;33m(\u001b[0m\u001b[1;33m)\u001b[0m\u001b[1;33m\u001b[0m\u001b[1;33m\u001b[0m\u001b[0m\n\u001b[0;32m     16\u001b[0m \u001b[1;33m\u001b[0m\u001b[0m\n\u001b[1;32m---> 17\u001b[1;33m \u001b[0mmy_custom_model\u001b[0m\u001b[1;33m.\u001b[0m\u001b[0mevaluate\u001b[0m\u001b[1;33m(\u001b[0m\u001b[0mx\u001b[0m \u001b[1;33m=\u001b[0m \u001b[0mX_test\u001b[0m\u001b[1;33m,\u001b[0m\u001b[0my\u001b[0m \u001b[1;33m=\u001b[0m \u001b[0my_test\u001b[0m \u001b[1;33m,\u001b[0m \u001b[0mverbose\u001b[0m\u001b[1;33m=\u001b[0m\u001b[1;36m0\u001b[0m\u001b[1;33m)\u001b[0m\u001b[1;33m\u001b[0m\u001b[1;33m\u001b[0m\u001b[0m\n\u001b[0m\u001b[0;32m     18\u001b[0m \u001b[1;33m\u001b[0m\u001b[0m\n\u001b[0;32m     19\u001b[0m \u001b[0mplot_metric\u001b[0m\u001b[1;33m(\u001b[0m\u001b[0mhistory\u001b[0m\u001b[1;33m,\u001b[0m \u001b[1;34m'loss'\u001b[0m\u001b[1;33m)\u001b[0m\u001b[1;33m\u001b[0m\u001b[1;33m\u001b[0m\u001b[0m\n",
      "\u001b[1;31mNameError\u001b[0m: name 'my_custom_model' is not defined"
     ]
    }
   ],
   "source": [
    "#  Model Evaluation\n",
    "\n",
    "%matplotlib inline\n",
    "%config InlineBackend.figure_format = 'svg'\n",
    "def plot_metric(history, metric):\n",
    "    train_metrics = history.history[metric]\n",
    "    val_metrics = history.history['val_'+metric]\n",
    "    epochs = range(1, len(train_metrics) + 1)\n",
    "    plt.plot(epochs, train_metrics, 'bo--')\n",
    "    plt.plot(epochs, val_metrics, 'ro-')\n",
    "    plt.title('Training and validation '+ metric)\n",
    "    plt.xlabel(\"Epochs\")\n",
    "    plt.ylabel(metric)\n",
    "    plt.legend([\"train_\"+metric, 'val_'+metric])\n",
    "    plt.show()\n",
    "    \n",
    "my_custom_model.evaluate(x = X_test,y = y_test , verbose=0)\n",
    "\n",
    "plot_metric(history, 'loss')\n",
    "plot_metric(history, 'accuracy')\n"
   ]
  },
  {
   "cell_type": "markdown",
   "id": "lesbian-snake",
   "metadata": {},
   "source": [
    "# Functional API\n",
    "The Keras functional API provides a more flexible way of defining models. In particular, it allows us to define multiple input or output models as well as models that share layers."
   ]
  },
  {
   "cell_type": "code",
   "execution_count": null,
   "id": "prescribed-provision",
   "metadata": {
    "ExecuteTime": {
     "end_time": "2021-09-27T02:58:21.270837Z",
     "start_time": "2021-09-27T02:58:16.276Z"
    }
   },
   "outputs": [],
   "source": [
    "from tensorflow.keras.models import Model\n",
    "from tensorflow.keras.layers import Input, Dense\n",
    "\n",
    "# This returns a tensor\n",
    "inputs = Input(shape=(4,))\n",
    "\n",
    "# A layer instance is callable on a tensor, and returns a tensor\n",
    "x = Dense(5, activation='relu')(inputs)\n",
    "x = Dense(10, activation='relu')(x)\n",
    "outputs = Dense(3, activation='softmax')(x)\n",
    "\n",
    "# This creates a model that includes\n",
    "# the Input layer and three Dense layers\n",
    "model = Model(inputs=inputs, outputs=outputs)\n",
    "model.summary()"
   ]
  },
  {
   "cell_type": "code",
   "execution_count": null,
   "id": "unsigned-counter",
   "metadata": {
    "ExecuteTime": {
     "end_time": "2021-09-27T02:58:21.270837Z",
     "start_time": "2021-09-27T02:58:16.279Z"
    }
   },
   "outputs": [],
   "source": [
    "# First configure model using model.compile()\n",
    "model.compile(\n",
    "    optimizer='rmsprop',\n",
    "    loss='categorical_crossentropy',\n",
    "    metrics=['accuracy']\n",
    ")# Then, train the model with fit()\n",
    "history = model.fit(X_train, y_train,\n",
    "                    batch_size= 64,\n",
    "                    epochs= 30,\n",
    "                    validation_split=0.2\n",
    "                   )"
   ]
  },
  {
   "cell_type": "code",
   "execution_count": null,
   "id": "portuguese-superior",
   "metadata": {
    "ExecuteTime": {
     "end_time": "2021-09-27T02:58:21.271839Z",
     "start_time": "2021-09-27T02:58:16.282Z"
    }
   },
   "outputs": [],
   "source": [
    "my_custom_model.evaluate(x = X_test,y = y_test , verbose=0)\n",
    "\n",
    "plot_metric(history, 'loss')\n",
    "plot_metric(history, 'accuracy')\n"
   ]
  },
  {
   "cell_type": "markdown",
   "id": "neutral-report",
   "metadata": {},
   "source": [
    "# Multi-input and multi-output models\n",
    "\n",
    "Models with multiple inputs or multiple outputs are good use cases for the Functional API. Here, I am showing 3 different scenarios:\n",
    "\n",
    "    A model with 2 inputs and 1 output\n",
    "    A model with 1 input and 2 outputs\n",
    "    A model with 2 input and 2 outputs\n",
    "\n",
    "For a model with 2 inputs and 1 output. Suppose we have image data and structured data for iris flower classification. We would like to build a Machine Learning model like below:\n",
    "\n",
    "\n",
    "![](./i/1g53L2TfbdLDzFTJTlCYsxg.png)"
   ]
  },
  {
   "cell_type": "code",
   "execution_count": null,
   "id": "varying-attention",
   "metadata": {
    "ExecuteTime": {
     "end_time": "2021-09-27T02:58:21.271839Z",
     "start_time": "2021-09-27T02:58:16.283Z"
    }
   },
   "outputs": [],
   "source": [
    "# For the scenario with 2 inputs and 1 output\n",
    "\n",
    "from tensorflow.keras.layers import concatenate\n",
    "\n",
    "# 2 inputs, one structured data, the other image data\n",
    "input_structure = Input(shape=(4,), name='input_structure')\n",
    "input_image = Input(shape=(256,), name='input_image')\n",
    "\n",
    "# middle layers\n",
    "x_1 = Dense(10, activation='relu')(input_structure)\n",
    "x_2 = Dense(100, activation='relu')(input_image)\n",
    "\n",
    "c = concatenate([x_1, x_2])\n",
    "\n",
    "outputs = Dense(3, activation='sigmoid', name='outputs')(c)\n",
    "\n",
    "model = Model(inputs=[input_structure, input_image], outputs=outputs)\n",
    "\n",
    "model.summary()"
   ]
  },
  {
   "cell_type": "markdown",
   "id": "social-graphics",
   "metadata": {},
   "source": [
    "In order to take 2 different inputs, we need to concatenate them using concatenate([x_1, x_2]).\n",
    "\n",
    "To define a model with multiple inputs, we just need to specify a list of inputs inputs=[input_structure, input_image].\n",
    "\n",
    "For a model with 1 input and 2 outputs. Suppose we only have image data and the task is to identify whether the given image is a flower and if yes, what type of iris flower it is?\n",
    "\n",
    "![](./i/13iqPWQZDykNNWnQgD_knZg.png)"
   ]
  },
  {
   "cell_type": "code",
   "execution_count": null,
   "id": "acute-employer",
   "metadata": {
    "ExecuteTime": {
     "end_time": "2021-09-27T02:58:21.272856Z",
     "start_time": "2021-09-27T02:58:16.285Z"
    }
   },
   "outputs": [],
   "source": [
    "## 1 inputs, 2 output\n",
    "\n",
    "from tensorflow.keras.layers import concatenate\n",
    "\n",
    "# only one input\n",
    "input_image = Input(shape=(256,), name='input_image')\n",
    "\n",
    "# middle layer\n",
    "x = Dense(300, activation='relu')(input_image)\n",
    "\n",
    "# output layer\n",
    "output_1 = Dense(1, activation='sigmoid', name='output_1')(x)\n",
    "output_2 = Dense(3, activation='softmax', name='output_2')(x)\n",
    "\n",
    "model = Model(inputs=input_image, outputs=[output_1, output_2])\n",
    "\n",
    "model.summary()"
   ]
  },
  {
   "cell_type": "markdown",
   "id": "essential-physiology",
   "metadata": {},
   "source": [
    "In order to define a model with multiple outputs, we just need to specify a list of outputs outputs=[output_1, output_2] .\n",
    "\n",
    "If all runs smoothly, we should get a summary like below.\n",
    "\n",
    "For a model with 2 inputs and 2 outputs. Suppose we have structured data and image data. The task is to identify whether an iris flower is in the image and what type of iris flower it is.\n",
    "\n",
    "![](./i/1LS3KVWlIbARPtYEt_oro-Q.png)"
   ]
  },
  {
   "cell_type": "code",
   "execution_count": null,
   "id": "successful-addiction",
   "metadata": {
    "ExecuteTime": {
     "end_time": "2021-09-27T02:58:21.273837Z",
     "start_time": "2021-09-27T02:58:16.286Z"
    }
   },
   "outputs": [],
   "source": [
    "## 2 inputs, 2 outputs\n",
    "from tensorflow.keras.layers import concatenate\n",
    "\n",
    "# 2 inputs, one structured data, the other image data\n",
    "input_structured = Input(shape=(4,), name='input_structured')\n",
    "input_image = Input(shape=(256,), name='input_image')\n",
    "\n",
    "# middle layers\n",
    "x_1 = Dense(10, activation='relu')(input_structured)\n",
    "x_2 = Dense(300, activation='relu')(input_image)\n",
    "\n",
    "c = concatenate([x_1, x_2])\n",
    "\n",
    "# output layser\n",
    "output_1 = Dense(1, activation='sigmoid', name='output_1')(c)\n",
    "output_2 = Dense(3, activation='softmax', name='output_2')(c)\n",
    "\n",
    "model = Model(inputs=[input_structured, input_image], outputs=[output_1, output_2])\n",
    "\n",
    "model.summary()"
   ]
  },
  {
   "cell_type": "markdown",
   "id": "presidential-dynamics",
   "metadata": {},
   "source": [
    "## hared layer in Functional API\n",
    "\n",
    "Another good use for the Functional API are models that use shared layers. Let’s take a look at shared layers."
   ]
  },
  {
   "cell_type": "code",
   "execution_count": null,
   "id": "mechanical-convenience",
   "metadata": {
    "ExecuteTime": {
     "end_time": "2021-09-27T02:58:21.273837Z",
     "start_time": "2021-09-27T02:58:16.287Z"
    }
   },
   "outputs": [],
   "source": [
    "inputs = Input(shape=(4,))\n",
    "\n",
    "# a layer instance is callable on a tensor, and returns a tensor\n",
    "shared_layer = Dense(4, activation='relu')\n",
    "\n",
    "# Now we apply the layer three times\n",
    "x = shared_layer(inputs)\n",
    "x = shared_layer(x)\n",
    "x = shared_layer(x)\n",
    "x = shared_layer(x)\n",
    "\n",
    "predictions = Dense(3, activation='softmax')(x)\n",
    "\n",
    "model = Model(inputs=inputs, outputs=predictions)\n",
    "\n",
    "model.summary()"
   ]
  },
  {
   "cell_type": "markdown",
   "id": "velvet-russell",
   "metadata": {},
   "source": [
    "# Model Subclassing\n",
    "\n",
    "The last way to implement a Machine Learning model with Keras and TensorFlow 2.0 is called Model Subclassing. This way of building models gives you a low level of control over both the construction and the operation of a model.\n",
    "\n",
    "Let’s take a look at how to use it to build our iris flow classifier."
   ]
  },
  {
   "cell_type": "code",
   "execution_count": null,
   "id": "adapted-facial",
   "metadata": {
    "ExecuteTime": {
     "end_time": "2021-09-27T02:58:21.274838Z",
     "start_time": "2021-09-27T02:58:16.289Z"
    }
   },
   "outputs": [],
   "source": [
    "from tensorflow.keras.models import Model\n",
    "from tensorflow.keras.layers import Dense\n",
    "\n",
    "class CustomModel(Model):\n",
    "    \n",
    "    def __init__(self, **kwargs):\n",
    "        super(CustomModel, self).__init__(**kwargs)\n",
    "        self.dense1 = Dense(5, activation='relu', )\n",
    "        self.dense2 = Dense(10, activation='relu')\n",
    "        self.dense3 = Dense(3, activation='softmax')\n",
    "        \n",
    "    def call(self, inputs):\n",
    "        x = self.dense1(inputs)\n",
    "        x = self.dense2(x)\n",
    "        return self.dense3(x)\n",
    "        \n",
    "\n",
    "my_custom_model = CustomModel(name='my_custom_model')\n",
    "# 3.1 Training a Model Subclassing model\n",
    "my_custom_model.compile(optimizer='rmsprop',\n",
    "              loss='categorical_crossentropy',\n",
    "              metrics=['accuracy'])\n",
    "\n",
    "history = my_custom_model.fit(X_train, y_train,\n",
    "                    batch_size= 64,\n",
    "                    epochs= 30,\n",
    "                    validation_split=0.2)"
   ]
  },
  {
   "cell_type": "code",
   "execution_count": null,
   "id": "homeless-accountability",
   "metadata": {
    "ExecuteTime": {
     "end_time": "2021-09-27T02:58:21.274838Z",
     "start_time": "2021-09-27T02:58:16.290Z"
    }
   },
   "outputs": [],
   "source": [
    "my_custom_model.summary()"
   ]
  },
  {
   "cell_type": "code",
   "execution_count": null,
   "id": "amended-beauty",
   "metadata": {
    "ExecuteTime": {
     "end_time": "2021-09-27T02:58:21.275861Z",
     "start_time": "2021-09-27T02:58:16.293Z"
    }
   },
   "outputs": [],
   "source": [
    "my_custom_model.evaluate(x = X_test,y = y_test , verbose=0)\n",
    "\n",
    "plot_metric(history, 'loss')\n",
    "plot_metric(history, 'accuracy')\n"
   ]
  },
  {
   "cell_type": "code",
   "execution_count": null,
   "id": "widespread-football",
   "metadata": {},
   "outputs": [],
   "source": []
  }
 ],
 "metadata": {
  "kernelspec": {
   "display_name": "tensorflow",
   "language": "python",
   "name": "tensorflow"
  },
  "language_info": {
   "codemirror_mode": {
    "name": "ipython",
    "version": 3
   },
   "file_extension": ".py",
   "mimetype": "text/x-python",
   "name": "python",
   "nbconvert_exporter": "python",
   "pygments_lexer": "ipython3",
   "version": "3.7.9"
  },
  "toc": {
   "base_numbering": 1,
   "nav_menu": {},
   "number_sections": true,
   "sideBar": true,
   "skip_h1_title": false,
   "title_cell": "Table of Contents",
   "title_sidebar": "Contents",
   "toc_cell": true,
   "toc_position": {},
   "toc_section_display": true,
   "toc_window_display": true
  }
 },
 "nbformat": 4,
 "nbformat_minor": 5
}
